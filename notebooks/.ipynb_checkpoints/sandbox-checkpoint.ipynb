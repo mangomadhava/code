{
 "cells": [
  {
   "cell_type": "code",
   "execution_count": null,
   "metadata": {},
   "outputs": [],
   "source": [
    "import librosa\n",
    "import matplotlib\n",
    "import numpy as np\n",
    "import matplotlib.pyplot as plt\n",
    "%matplotlib inline  \n",
    "import librosa.display\n",
    "import IPython.display as ipd\n",
    "from nnAudio import Spectrogram\n",
    "from scipy.io import wavfile\n",
    "import torch\n",
    "from pydub import AudioSegment\n",
    "from scipy.io import wavfile\n",
    "from audio2numpy import open_audio\n",
    "\n",
    "#https://towardsdatascience.com/getting-to-know-the-mel-spectrogram-31bca3e2d9d0\n",
    "#https://arxiv.org/pdf/1809.04281.pdf\n",
    "#https://towardsdatascience.com/transformers-141e32e69591\n",
    "#http://cs229.stanford.edu/proj2017/final-reports/5244079.pdf\n",
    "#https://musicinformationretrieval.com/chroma.html\n"
   ]
  },
  {
   "cell_type": "code",
   "execution_count": null,
   "metadata": {},
   "outputs": [],
   "source": [
    "# file_path = '/Users/madhavapaliyam/Documents/CMSC/rando/raganet/examples/ex1.mp3'\n",
    "file_path = '/Users/madhavapaliyam/Documents/CMSC/rando/raganet/data/AbhEri/03-vINAbhEri_vEnuvAdyAdi_vinOdinIm-AbhEri.mp3'\n",
    "signal, sampling_rate = open_audio(file_path)\n",
    "print(sampling_rate)\n",
    "\n",
    "if len(signal.shape) > 1: \n",
    "    signal = np.mean(signal, axis = 1)\n",
    "print(signal.shape)"
   ]
  },
  {
   "cell_type": "code",
   "execution_count": null,
   "metadata": {},
   "outputs": [],
   "source": [
    "librosa.display.waveplot(signal)"
   ]
  },
  {
   "cell_type": "code",
   "execution_count": null,
   "metadata": {},
   "outputs": [],
   "source": [
    "hop_length = 1024\n",
    "n_chroma = 24"
   ]
  },
  {
   "cell_type": "code",
   "execution_count": null,
   "metadata": {},
   "outputs": [],
   "source": [
    "S = librosa.cqt(signal, sr=sampling_rate, hop_length=hop_length)\n",
    "# S_DB = librosa.power_to_db(S, ref=np.max)\n",
    "print(S.shape)\n",
    "librosa.display.specshow(S, sr=sampling_rate, hop_length=hop_length, x_axis='time', y_axis='mel')\n",
    "plt.colorbar(format='%+2.0f dB')"
   ]
  },
  {
   "cell_type": "code",
   "execution_count": null,
   "metadata": {},
   "outputs": [],
   "source": [
    "mean_S = np.mean(S, axis = 0)\n",
    "mean_S.shape"
   ]
  },
  {
   "cell_type": "code",
   "execution_count": null,
   "metadata": {},
   "outputs": [],
   "source": [
    "chromagram = librosa.feature.chroma_stft(signal, sr=sampling_rate, n_chroma = n_chroma, hop_length=hop_length)\n",
    "plt.figure(figsize=(15, 5))\n",
    "librosa.display.specshow(chromagram[:,:], x_axis='time', hop_length=hop_length)\n",
    "print(chromagram.shape)"
   ]
  },
  {
   "cell_type": "code",
   "execution_count": null,
   "metadata": {},
   "outputs": [],
   "source": [
    "chromagram = librosa.feature.chroma_stft(signal, sr=sampling_rate, n_chroma = n_chroma, hop_length=hop_length)\n",
    "plt.figure(figsize=(15, 5))\n",
    "librosa.display.specshow(chromagram[:,:] * mean_S, x_axis='time', hop_length=hop_length)\n",
    "print(chromagram.shape)"
   ]
  },
  {
   "cell_type": "code",
   "execution_count": null,
   "metadata": {},
   "outputs": [],
   "source": [
    "chromagram = librosa.feature.chroma_cqt(signal, sr=sampling_rate, n_chroma = 12, hop_length=hop_length)\n",
    "plt.figure(figsize=(15, 5))\n",
    "librosa.display.specshow(chromagram[:,:], x_axis='time', hop_length=hop_length)\n",
    "print(chromagram.shape)"
   ]
  },
  {
   "cell_type": "code",
   "execution_count": null,
   "metadata": {},
   "outputs": [],
   "source": [
    "chromagram = librosa.feature.chroma_cqt(signal, sr=sampling_rate, n_chroma = 12, hop_length=hop_length)\n",
    "plt.figure(figsize=(15, 5))\n",
    "librosa.display.specshow(chromagram[:,:] * mean_S, x_axis='time', hop_length=hop_length)\n",
    "print(chromagram.shape)"
   ]
  },
  {
   "cell_type": "code",
   "execution_count": null,
   "metadata": {},
   "outputs": [],
   "source": []
  },
  {
   "cell_type": "markdown",
   "metadata": {},
   "source": [
    "### Shifts"
   ]
  },
  {
   "cell_type": "code",
   "execution_count": null,
   "metadata": {},
   "outputs": [],
   "source": [
    "# shifted_signal = librosa.effects.pitch_shift(signal, sampling_rate, n_steps=35)"
   ]
  },
  {
   "cell_type": "code",
   "execution_count": null,
   "metadata": {},
   "outputs": [],
   "source": [
    "S = librosa.cqt(shifted_signal, sr=sampling_rate, hop_length=hop_length)\n",
    "# S_DB = librosa.power_to_db(S, ref=np.max)\n",
    "print(S.shape)\n",
    "librosa.display.specshow(S, sr=sampling_rate, hop_length=hop_length, x_axis='time', y_axis='mel')\n",
    "plt.colorbar(format='%+2.0f dB')"
   ]
  },
  {
   "cell_type": "code",
   "execution_count": null,
   "metadata": {},
   "outputs": [],
   "source": [
    "chromagram = librosa.feature.chroma_stft(shifted_signal, sr=sampling_rate, n_chroma = n_chroma, hop_length=hop_length)\n",
    "plt.figure(figsize=(15, 5))\n",
    "librosa.display.specshow(chromagram[:,:] * mean_S, x_axis='time', hop_length=hop_length)\n",
    "print(chromagram.shape)"
   ]
  },
  {
   "cell_type": "code",
   "execution_count": null,
   "metadata": {},
   "outputs": [],
   "source": [
    "chromagram = librosa.feature.chroma_cqt(shifted_signal, sr=sampling_rate, n_chroma = 12, hop_length=hop_length)\n",
    "plt.figure(figsize=(15, 5))\n",
    "librosa.display.specshow(chromagram[:,:] * mean_S, x_axis='time', hop_length=hop_length)\n",
    "print(chromagram.shape)"
   ]
  },
  {
   "cell_type": "code",
   "execution_count": null,
   "metadata": {},
   "outputs": [],
   "source": [
    "num_groups = chromagram.shape[1] // 600\n",
    "bound = num_groups * 600\n",
    "chromagram = chromagram[:,0:bound]\n",
    "chromagram.shape"
   ]
  },
  {
   "cell_type": "code",
   "execution_count": null,
   "metadata": {},
   "outputs": [],
   "source": [
    "np.array(np.split(chromagram, num_groups, axis = 1)).shape"
   ]
  },
  {
   "cell_type": "code",
   "execution_count": null,
   "metadata": {},
   "outputs": [],
   "source": [
    "from nnAudio import Spectrogram"
   ]
  },
  {
   "cell_type": "code",
   "execution_count": null,
   "metadata": {},
   "outputs": [],
   "source": [
    "signal_torch = torch.tensor(signal)\n",
    "S = Spectrogram.CQT2010v2(hop_length = hop_length)(signal_torch)\n",
    "S.shape"
   ]
  },
  {
   "cell_type": "code",
   "execution_count": null,
   "metadata": {},
   "outputs": [],
   "source": [
    "librosa.display.specshow(S.cpu().detach().numpy().squeeze(), sr=sampling_rate, hop_length=hop_length, x_axis='time', y_axis='mel')\n"
   ]
  },
  {
   "cell_type": "code",
   "execution_count": null,
   "metadata": {},
   "outputs": [],
   "source": [
    "S_roll = torch.roll(S, -10, dims = 1)"
   ]
  },
  {
   "cell_type": "code",
   "execution_count": null,
   "metadata": {},
   "outputs": [],
   "source": [
    "librosa.display.specshow(S_roll.cpu().detach().numpy().squeeze(), sr=sampling_rate, hop_length=hop_length, x_axis='time', y_axis='mel')\n"
   ]
  },
  {
   "cell_type": "markdown",
   "metadata": {},
   "source": [
    "### Filtering"
   ]
  },
  {
   "cell_type": "code",
   "execution_count": null,
   "metadata": {},
   "outputs": [],
   "source": [
    "file_path = '/Users/madhavapaliyam/Documents/CMSC/rando/raganet/data/AbhEri/11-bhajarE_rE_mAnasa_shrI-AbhEri.mp3'\n",
    "signal, sampling_rate = open_audio(file_path)\n",
    "print(sampling_rate)\n",
    "\n",
    "if len(signal.shape) > 1: \n",
    "    signal = np.mean(signal, axis = 1)\n",
    "print(signal.shape)\n",
    "\n",
    "S_full, phase = librosa.magphase(librosa.stft(signal))"
   ]
  },
  {
   "cell_type": "code",
   "execution_count": null,
   "metadata": {},
   "outputs": [],
   "source": [
    "import IPython.display as ipd\n",
    "# ipd.Audio(file_path)"
   ]
  },
  {
   "cell_type": "code",
   "execution_count": null,
   "metadata": {},
   "outputs": [],
   "source": [
    "idx = slice(*librosa.time_to_frames([10, 15], sr=sampling_rate))\n",
    "plt.figure(figsize=(12, 4))\n",
    "librosa.display.specshow(librosa.amplitude_to_db(S_full[:, idx], ref=np.max),\n",
    "                         y_axis='log', x_axis='time', sr=sampling_rate)\n",
    "plt.colorbar()\n",
    "plt.tight_layout()"
   ]
  },
  {
   "cell_type": "code",
   "execution_count": null,
   "metadata": {},
   "outputs": [],
   "source": [
    "S_filter = librosa.decompose.nn_filter(S_full,\n",
    "                                       aggregate=np.median,\n",
    "                                       metric='cosine',\n",
    "                                       width=int(librosa.time_to_frames(2, sr=sampling_rate)))\n"
   ]
  },
  {
   "cell_type": "code",
   "execution_count": null,
   "metadata": {},
   "outputs": [],
   "source": [
    "S_filter = np.minimum(S_full, S_filter)"
   ]
  },
  {
   "cell_type": "code",
   "execution_count": null,
   "metadata": {},
   "outputs": [],
   "source": [
    "margin_i, margin_v = 5, 10\n",
    "power = 2\n",
    "\n",
    "mask_i = librosa.util.softmask(S_filter,\n",
    "                               margin_i * (S_full - S_filter),\n",
    "                               power=power)\n",
    "\n",
    "mask_v = librosa.util.softmask(S_full - S_filter,\n",
    "                               margin_v * S_filter,\n",
    "                               power=power)"
   ]
  },
  {
   "cell_type": "code",
   "execution_count": null,
   "metadata": {},
   "outputs": [],
   "source": [
    "S_foreground = mask_v * S_full\n",
    "S_background = mask_i * S_full"
   ]
  },
  {
   "cell_type": "code",
   "execution_count": null,
   "metadata": {},
   "outputs": [],
   "source": [
    "plt.figure(figsize=(12, 8))\n",
    "plt.subplot(3, 1, 1)\n",
    "librosa.display.specshow(librosa.amplitude_to_db(S_full[:, idx], ref=np.max),\n",
    "                         y_axis='log', sr=sampling_rate)\n",
    "plt.title('Full spectrum')\n",
    "plt.colorbar()\n",
    "\n",
    "plt.subplot(3, 1, 2)\n",
    "librosa.display.specshow(librosa.amplitude_to_db(S_background[:, idx], ref=np.max),\n",
    "                         y_axis='log', sr=sampling_rate)\n",
    "plt.title('Background')\n",
    "plt.colorbar()\n",
    "plt.subplot(3, 1, 3)\n",
    "librosa.display.specshow(librosa.amplitude_to_db(S_foreground[:, idx], ref=np.max),\n",
    "                         y_axis='log', x_axis='time', sr=sampling_rate)\n",
    "plt.title('Foreground')\n",
    "plt.colorbar()\n",
    "plt.tight_layout()\n",
    "plt.show()"
   ]
  },
  {
   "cell_type": "code",
   "execution_count": null,
   "metadata": {},
   "outputs": [],
   "source": [
    "import soundfile as sf\n",
    "new_y = librosa.istft(S_foreground*phase)\n",
    "sf.write(\"./new-audio.wav\", new_y, sampling_rate)"
   ]
  },
  {
   "cell_type": "code",
   "execution_count": null,
   "metadata": {},
   "outputs": [],
   "source": [
    "# ipd.Audio(\"./new-audio.wav\")"
   ]
  },
  {
   "cell_type": "code",
   "execution_count": null,
   "metadata": {},
   "outputs": [],
   "source": []
  },
  {
   "cell_type": "code",
   "execution_count": null,
   "metadata": {},
   "outputs": [],
   "source": []
  },
  {
   "cell_type": "code",
   "execution_count": null,
   "metadata": {},
   "outputs": [],
   "source": []
  },
  {
   "cell_type": "code",
   "execution_count": null,
   "metadata": {},
   "outputs": [],
   "source": []
  },
  {
   "cell_type": "code",
   "execution_count": null,
   "metadata": {},
   "outputs": [],
   "source": []
  },
  {
   "cell_type": "code",
   "execution_count": null,
   "metadata": {},
   "outputs": [],
   "source": []
  }
 ],
 "metadata": {
  "kernelspec": {
   "display_name": "Python 3",
   "language": "python",
   "name": "python3"
  },
  "language_info": {
   "codemirror_mode": {
    "name": "ipython",
    "version": 3
   },
   "file_extension": ".py",
   "mimetype": "text/x-python",
   "name": "python",
   "nbconvert_exporter": "python",
   "pygments_lexer": "ipython3",
   "version": "3.7.4"
  }
 },
 "nbformat": 4,
 "nbformat_minor": 2
}
