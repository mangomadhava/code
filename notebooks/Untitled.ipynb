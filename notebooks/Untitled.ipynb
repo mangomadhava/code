{
 "cells": [
  {
   "cell_type": "code",
   "execution_count": 8,
   "metadata": {},
   "outputs": [],
   "source": [
    "import torch\n",
    "import torch.nn as nn\n"
   ]
  },
  {
   "cell_type": "code",
   "execution_count": 162,
   "metadata": {},
   "outputs": [],
   "source": [
    "x = torch.zeros((3,32,12,600))\n"
   ]
  },
  {
   "cell_type": "code",
   "execution_count": 163,
   "metadata": {},
   "outputs": [],
   "source": [
    "class m_block(nn.Module):\n",
    "    def __init__(self, inplanes, planes, y_k_s = 5):\n",
    "        super(m_block, self).__init__()\n",
    "        p_y = y_k_s // 2\n",
    "        self.conv_s1 = nn.Conv2d(inplanes, planes, kernel_size=(1,y_k_s), padding=(0,p_y), bias=False)\n",
    "        self.bn1 = nn.BatchNorm2d(planes)\n",
    "        self.conv_s2 = nn.Conv2d(inplanes, planes, kernel_size=(3,y_k_s), padding=(1,p_y), bias=False)\n",
    "        self.bn2 = nn.BatchNorm2d(planes)\n",
    "        self.conv_s3 = nn.Conv2d(inplanes, planes, kernel_size=(5,y_k_s), padding=(2,p_y), bias=False)\n",
    "        self.bn3 = nn.BatchNorm2d(planes)\n",
    "        self.relu = nn.ReLU(inplace=True)\n",
    "        \n",
    "        self.project = nn.Sequential(\n",
    "            nn.Conv2d(3 * planes, inplanes, 1, bias=False),\n",
    "            nn.BatchNorm2d(inplanes),\n",
    "            nn.ReLU(inplace=True),\n",
    "            nn.Dropout(0.2))\n",
    "        \n",
    "        self.conv2 = nn.Conv2d(inplanes, planes, kernel_size=(1,3), padding=(0,1), bias=False)\n",
    "\n",
    "    def forward(self, x):\n",
    "        d_1_feat = self.conv_s1(x)\n",
    "        d_2_feat = self.conv_s2(x)\n",
    "        d_3_feat = self.conv_s3(x)\n",
    "        feat_vect = torch.cat([d_1_feat, d_2_feat, d_3_feat], dim = 1)\n",
    "        # residual connection\n",
    "        out = self.project(feat_vect) + x \n",
    "        out = self.conv2(out)\n",
    "        return out\n",
    "        "
   ]
  },
  {
   "cell_type": "code",
   "execution_count": 164,
   "metadata": {},
   "outputs": [
    {
     "data": {
      "text/plain": [
       "torch.Size([3, 64, 12, 600])"
      ]
     },
     "execution_count": 164,
     "metadata": {},
     "output_type": "execute_result"
    }
   ],
   "source": [
    "n = m_block(32,64,3)\n",
    "n(x).shape"
   ]
  },
  {
   "cell_type": "code",
   "execution_count": 173,
   "metadata": {},
   "outputs": [],
   "source": [
    "class raganet(nn.Module):\n",
    "    def __init__(self, height = 12, num_ragas = 2):\n",
    "        super(raganet, self).__init__()\n",
    "        self.conv1 = nn.Conv2d(1, 32, kernel_size=(1,3), padding=(0,1), bias=False)\n",
    "        self.bn1 = nn.BatchNorm2d(32)\n",
    "        self.relu = nn.ReLU(inplace=True)\n",
    "        self.maxpool = nn.MaxPool2d(kernel_size=3, stride=(2,4), padding=1)\n",
    "        \n",
    "        self.b1 = m_block(32, 64, 5)\n",
    "        self.b2 = m_block(64, 64, 3)\n",
    "        self.b3 = m_block(64, 128, 3)\n",
    "        self.fc = nn.Linear(2560, num_ragas)\n",
    "                \n",
    "    def forward(self, x):\n",
    "        x = self.conv1(x)\n",
    "        x = self.bn1(x)\n",
    "        x = self.relu(x)\n",
    "        print(x.shape)\n",
    "        x = self.b1(x)\n",
    "        x = self.maxpool(x)\n",
    "        print(x.shape)\n",
    "        x = self.b2(x)\n",
    "        x = self.maxpool(x)\n",
    "        print(x.shape)\n",
    "        x = self.b3(x)\n",
    "        x = self.maxpool(x)\n",
    "        print(x.shape)\n",
    "        x = x.view(x.size(0), -1)\n",
    "        print(x.shape)\n",
    "        x = self.fc(x)\n",
    "        return x"
   ]
  },
  {
   "cell_type": "code",
   "execution_count": 174,
   "metadata": {},
   "outputs": [
    {
     "name": "stdout",
     "output_type": "stream",
     "text": [
      "torch.Size([3, 32, 12, 600])\n",
      "torch.Size([3, 64, 6, 150])\n",
      "torch.Size([3, 64, 3, 38])\n",
      "torch.Size([3, 128, 2, 10])\n",
      "torch.Size([3, 2560])\n"
     ]
    },
    {
     "data": {
      "text/plain": [
       "torch.Size([3, 2])"
      ]
     },
     "execution_count": 174,
     "metadata": {},
     "output_type": "execute_result"
    }
   ],
   "source": [
    "model = raganet()\n",
    "x = torch.zeros((3,1,12,600))\n",
    "model(x).shape"
   ]
  },
  {
   "cell_type": "code",
   "execution_count": 175,
   "metadata": {},
   "outputs": [],
   "source": [
    "from torchsummary import summary"
   ]
  },
  {
   "cell_type": "code",
   "execution_count": 177,
   "metadata": {},
   "outputs": [
    {
     "name": "stdout",
     "output_type": "stream",
     "text": [
      "torch.Size([2, 32, 12, 600])\n",
      "torch.Size([2, 64, 6, 150])\n",
      "torch.Size([2, 64, 3, 38])\n",
      "torch.Size([2, 128, 2, 10])\n",
      "torch.Size([2, 2560])\n",
      "----------------------------------------------------------------\n",
      "        Layer (type)               Output Shape         Param #\n",
      "================================================================\n",
      "            Conv2d-1          [-1, 32, 12, 600]              96\n",
      "       BatchNorm2d-2          [-1, 32, 12, 600]              64\n",
      "              ReLU-3          [-1, 32, 12, 600]               0\n",
      "            Conv2d-4          [-1, 64, 12, 600]          10,240\n",
      "            Conv2d-5          [-1, 64, 12, 600]          30,720\n",
      "            Conv2d-6          [-1, 64, 12, 600]          51,200\n",
      "            Conv2d-7          [-1, 32, 12, 600]           6,144\n",
      "       BatchNorm2d-8          [-1, 32, 12, 600]              64\n",
      "              ReLU-9          [-1, 32, 12, 600]               0\n",
      "          Dropout-10          [-1, 32, 12, 600]               0\n",
      "           Conv2d-11          [-1, 64, 12, 600]           6,144\n",
      "          m_block-12          [-1, 64, 12, 600]               0\n",
      "        MaxPool2d-13           [-1, 64, 6, 150]               0\n",
      "           Conv2d-14           [-1, 64, 6, 150]          12,288\n",
      "           Conv2d-15           [-1, 64, 6, 150]          36,864\n",
      "           Conv2d-16           [-1, 64, 6, 150]          61,440\n",
      "           Conv2d-17           [-1, 64, 6, 150]          12,288\n",
      "      BatchNorm2d-18           [-1, 64, 6, 150]             128\n",
      "             ReLU-19           [-1, 64, 6, 150]               0\n",
      "          Dropout-20           [-1, 64, 6, 150]               0\n",
      "           Conv2d-21           [-1, 64, 6, 150]          12,288\n",
      "          m_block-22           [-1, 64, 6, 150]               0\n",
      "        MaxPool2d-23            [-1, 64, 3, 38]               0\n",
      "           Conv2d-24           [-1, 128, 3, 38]          24,576\n",
      "           Conv2d-25           [-1, 128, 3, 38]          73,728\n",
      "           Conv2d-26           [-1, 128, 3, 38]         122,880\n",
      "           Conv2d-27            [-1, 64, 3, 38]          24,576\n",
      "      BatchNorm2d-28            [-1, 64, 3, 38]             128\n",
      "             ReLU-29            [-1, 64, 3, 38]               0\n",
      "          Dropout-30            [-1, 64, 3, 38]               0\n",
      "           Conv2d-31           [-1, 128, 3, 38]          24,576\n",
      "          m_block-32           [-1, 128, 3, 38]               0\n",
      "        MaxPool2d-33           [-1, 128, 2, 10]               0\n",
      "           Linear-34                    [-1, 2]           5,122\n",
      "================================================================\n",
      "Total params: 515,554\n",
      "Trainable params: 515,554\n",
      "Non-trainable params: 0\n",
      "----------------------------------------------------------------\n",
      "Input size (MB): 0.03\n",
      "Forward/backward pass size (MB): 35.13\n",
      "Params size (MB): 1.97\n",
      "Estimated Total Size (MB): 37.13\n",
      "----------------------------------------------------------------\n"
     ]
    }
   ],
   "source": [
    "summary(model, (1,12,600))"
   ]
  },
  {
   "cell_type": "code",
   "execution_count": null,
   "metadata": {},
   "outputs": [],
   "source": []
  }
 ],
 "metadata": {
  "kernelspec": {
   "display_name": "Python 3",
   "language": "python",
   "name": "python3"
  },
  "language_info": {
   "codemirror_mode": {
    "name": "ipython",
    "version": 3
   },
   "file_extension": ".py",
   "mimetype": "text/x-python",
   "name": "python",
   "nbconvert_exporter": "python",
   "pygments_lexer": "ipython3",
   "version": "3.7.4"
  }
 },
 "nbformat": 4,
 "nbformat_minor": 2
}
