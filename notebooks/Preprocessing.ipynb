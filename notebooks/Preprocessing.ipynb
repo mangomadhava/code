{
 "cells": [
  {
   "cell_type": "code",
   "execution_count": 1,
   "metadata": {},
   "outputs": [],
   "source": [
    "import librosa\n",
    "import matplotlib\n",
    "import numpy as np\n",
    "import matplotlib.pyplot as plt\n",
    "%matplotlib inline  \n",
    "import librosa.display\n",
    "import IPython.display as ipd\n",
    "import os\n",
    "from tqdm import tqdm\n",
    "import warnings\n",
    "import pickle\n",
    "from audio2numpy import open_audio\n",
    "from nnAudio import Spectrogram\n",
    "import torch\n",
    "from sys import getsizeof"
   ]
  },
  {
   "cell_type": "code",
   "execution_count": 2,
   "metadata": {},
   "outputs": [],
   "source": [
    "def listdir_nohidden(path):\n",
    "    for f in os.listdir(path):\n",
    "        if not f.startswith('.'):\n",
    "            yield f"
   ]
  },
  {
   "cell_type": "code",
   "execution_count": 5,
   "metadata": {},
   "outputs": [],
   "source": [
    "data_dir = '/Users/madhavapaliyam/Documents/CMSC/rando/raganet/data'\n",
    "hop_length = 1024\n",
    "n_chroma = 12\n",
    "image_length = 600\n",
    "#trim 650 from front and back ~30 seconds\n",
    "def save_chunks(ragam):\n",
    "    ragam_dir = os.path.join(data_dir, ragam)\n",
    "    chroma_list = np.zeros((0,12,600))\n",
    "#     filt = Spectrogram.CQT2010v2(hop_length = hop_length)\n",
    "    for i,song in enumerate(listdir_nohidden(ragam_dir)):\n",
    "#         print(\"Processing: \", song, str(i))\n",
    "        path = os.path.join(ragam_dir,song)\n",
    "        try:\n",
    "            signal, sampling_rate = open_audio(path)\n",
    "        except:\n",
    "            print(\"FAILED:\", song)\n",
    "            continue\n",
    "            \n",
    "#         print(\"done opening\")\n",
    "        if len(signal.shape) > 1: \n",
    "            signal = np.mean(signal, axis = 1)\n",
    "#         chroma = np.array(filt(torch.tensor(signal)))\n",
    "        S = librosa.cqt(signal, sr=sampling_rate, hop_length=hop_length)\n",
    "        mean_S = np.mean(S, axis = 0)\n",
    "        chroma = librosa.feature.chroma_cqt(signal, sr=sampling_rate, \n",
    "                                            n_chroma = n_chroma, hop_length=hop_length)\n",
    "#         print(\"done cqt\", str(chroma.shape))\n",
    "        chroma = chroma[:,650:-650]\n",
    "        mean_S = mean_S[650:-650]\n",
    "        chroma = chroma * mean_S\n",
    "        \n",
    "        if chroma.shape[1] >= image_length: \n",
    "            num_groups = chroma.shape[1] // image_length\n",
    "            bound = num_groups * image_length\n",
    "            chroma = chroma[:,0:bound]\n",
    "            chunks = np.split(chroma, num_groups, axis = 1)\n",
    "            chroma_list = np.concatenate((chroma_list, np.array(chunks)))\n",
    "        \n",
    "        print(\"Finished song:\", song, \" Chromagram size: \", chroma.shape, \"Number of Chunks: \", len(chunks))\n",
    "#         print(chroma_list.shape)\n",
    "    return chroma_list"
   ]
  },
  {
   "cell_type": "code",
   "execution_count": 6,
   "metadata": {},
   "outputs": [
    {
     "name": "stdout",
     "output_type": "stream",
     "text": [
      "Finished song: 06-nagumOmu_ganalEni-AbhEri (13).mp3  Chromagram size:  (12, 70800) Number of Chunks:  118\n",
      "Finished song: 03-nagumOmu_ganalEni-AbhEri (6).mp3  Chromagram size:  (12, 81000) Number of Chunks:  135\n",
      "Finished song: 10-nagumOmu_ganalEni-abhEri-Adhi-thyAgarAja.mp3  Chromagram size:  (12, 28800) Number of Chunks:  48\n",
      "Finished song: 08-nagumOmu_ganalEni-AbhEri-tyAgarAja.mp3  Chromagram size:  (12, 87600) Number of Chunks:  146\n",
      "Finished song: 05-nagumOmu_ganalEni-abhEri-Adhi-thyAgarAja.mp3  Chromagram size:  (12, 31800) Number of Chunks:  53\n",
      "Finished song: 17-nagumOmu_ganalEni-AbhEri.mp3  Chromagram size:  (12, 3000) Number of Chunks:  5\n",
      "Finished song: 11-bhajarE_rE_mAnasa_shrI-AbhEri.mp3  Chromagram size:  (12, 39000) Number of Chunks:  65\n",
      "Finished song: 04_kandA_vandaruL_AbhEri_pApanAsam_sivan.mp3  Chromagram size:  (12, 66000) Number of Chunks:  110\n",
      "Finished song: 02-nagumOmu_ganalEni-AbhEri (11).mp3  Chromagram size:  (12, 16200) Number of Chunks:  27\n",
      "Finished song: 02-nagumOmu_ganalEni-AbhEri.mp3  Chromagram size:  (12, 34800) Number of Chunks:  58\n",
      "Finished song: 03-kandA_vandaruL-AbhEri (7).mp3  Chromagram size:  (12, 20400) Number of Chunks:  34\n",
      "Finished song: 05-nagumOmu_ganalEni-AbhEri (4).mp3  Chromagram size:  (12, 65400) Number of Chunks:  109\n",
      "Finished song: 07-bhajare_rE_mAnasA-abhEri-c_thripuTa-MysUru_VAsudhEvAchAr.mp3  Chromagram size:  (12, 94800) Number of Chunks:  158\n",
      "Finished song: 02-bhajarE_rE_mAnasa_shrI-AbhEri (3).mp3  Chromagram size:  (12, 45000) Number of Chunks:  75\n",
      "Finished song: 08-nagumOmu_ganalEni-abhEri-Adhi-thyAgarAja.mp3  Chromagram size:  (12, 54000) Number of Chunks:  90\n",
      "Finished song: 03-bhajarE_rE_mAnasa_shrI-AbhEri (3).mp3  Chromagram size:  (12, 63000) Number of Chunks:  105\n",
      "Finished song: 11-nagumOmu_ganalEni-AbhEri (2).mp3  Chromagram size:  (12, 50400) Number of Chunks:  84\n",
      "Finished song: 06-nagumOmu_ganalEni-AbhEri (3).mp3  Chromagram size:  (12, 30600) Number of Chunks:  51\n",
      "Finished song: 04-bhajarE_rE_mAnasa_shrI-AbhEri (15).mp3  Chromagram size:  (12, 25800) Number of Chunks:  43\n",
      "Finished song: 02-nagumOmu_ganalEni-AbhEri (3).mp3  Chromagram size:  (12, 80400) Number of Chunks:  134\n",
      "Finished song: 05-bhajarE_rE_mAnasa_shrI-AbhEri (3).mp3  Chromagram size:  (12, 19200) Number of Chunks:  32\n",
      "Finished song: 05-nagumOmu_ganalEni-AbhEri (8).mp3  Chromagram size:  (12, 45000) Number of Chunks:  75\n",
      "Finished song: 04-nagumOmu_ganalEni-AbhEri-tyAgarAja (4).mp3  Chromagram size:  (12, 63000) Number of Chunks:  105\n",
      "Finished song: 01-bAlasubramaniyanE-AbEri-h.m.bhAgavadhar.mp3  Chromagram size:  (12, 22200) Number of Chunks:  37\n",
      "Finished song: 04-nagumOmu_ganalEni-AbhEri (1).mp3  Chromagram size:  (12, 67200) Number of Chunks:  112\n",
      "Finished song: 04-bhajarE_rE_mAnasa_shrI-AbhEri (3).mp3  Chromagram size:  (12, 61800) Number of Chunks:  103\n",
      "Finished song: 08-abhEri-AlApane (1).mp3  Chromagram size:  (12, 31800) Number of Chunks:  53\n",
      "Finished song: 03-nagumOmu_ganalEni-abhEri-Adhi-thyAgarAja (1).mp3  Chromagram size:  (12, 88200) Number of Chunks:  147\n",
      "Finished song: 08-nagumOmu_ganalEni_nAjAli-AbhEri-tyAgarAja.mp3  Chromagram size:  (12, 89400) Number of Chunks:  149\n",
      "Finished song: 07---Nagumomu---Abheri (1).mp3  Chromagram size:  (12, 16800) Number of Chunks:  28\n",
      "Finished song: 15-Nagumomu-Ganaleni-Abheri.mp3  Chromagram size:  (12, 23400) Number of Chunks:  39\n",
      "Finished song: 01_Nagumomu_Abheri_Adi_Thyagaraja_1960 (13).mp3  Chromagram size:  (12, 30600) Number of Chunks:  51\n",
      "Finished song: 11-bhajare_rE_mAnasA-abhEri-c_thripuTa-MysUru_VAsudhEvAchAr (1).mp3  Chromagram size:  (12, 36000) Number of Chunks:  60\n",
      "Finished song: 07-nagumOmu_ganalEni-AbhEri (6).mp3  Chromagram size:  (12, 33600) Number of Chunks:  56\n",
      "Finished song: 04-ninnu_vinA_mari_galadA-AbhEri.mp3  Chromagram size:  (12, 75000) Number of Chunks:  125\n",
      "Finished song: 09-nagumOmu_ganalEni-AbhEri (5).mp3  Chromagram size:  (12, 59400) Number of Chunks:  99\n",
      "Finished song: 01_Nagumomu_Abheri_Adi_Thyagaraja_1960 (3).mp3  Chromagram size:  (12, 30600) Number of Chunks:  51\n",
      "Finished song: 06-bhajarE_rE_mAnasa_shrI-AbhEri (3).mp3  Chromagram size:  (12, 17400) Number of Chunks:  29\n",
      "Finished song: 08-nagumOmu_ganalEni_nAjAli-AbhEri-tyAgarAja (1).mp3  Chromagram size:  (12, 89400) Number of Chunks:  149\n",
      "Finished song: 07_Nagumomu_Ganaleni_Najali_Telisi_Nannu-AbhEri.mp3  Chromagram size:  (12, 15600) Number of Chunks:  26\n",
      "Finished song: 10-nagumOmu-abhEri-Adhi-thyAgarAja.mp3  Chromagram size:  (12, 16200) Number of Chunks:  27\n",
      "Finished song: 01_Nagumomu_Abheri_Adi_Thyagaraja_1960 (2).mp3  Chromagram size:  (12, 30600) Number of Chunks:  51\n",
      "Finished song: 06-bhajarE_rE_mAnasa_shrI-AbhEri (2).mp3  Chromagram size:  (12, 49200) Number of Chunks:  82\n",
      "Finished song: 09-BhajarE_rE_mAnasa-abhEri-Adhi-MysUru_VAsudhEvAchArya.mp3  Chromagram size:  (12, 29400) Number of Chunks:  49\n",
      "Finished song: 09-bhajarE_rE_mAnasa_shrI-AbhEri-mysore_vAsudevAcAr.mp3  Chromagram size:  (12, 35400) Number of Chunks:  59\n",
      "Finished song: 07-nagumOmu_ganalEni-AbhEri (7).mp3  Chromagram size:  (12, 52800) Number of Chunks:  88\n",
      "Finished song: 09-nagumOmu_ganalEni-AbhEri (4).mp3  Chromagram size:  (12, 23400) Number of Chunks:  39\n",
      "Finished song: 01_Nagumomu_Abheri_Adi_Thyagaraja_1960 (12).mp3  Chromagram size:  (12, 30600) Number of Chunks:  51\n",
      "Finished song: 05-bhajarE_rE_mAnasa_shrI-AbhEri-mysore_vAsudevAcAr (2).mp3  Chromagram size:  (12, 65400) Number of Chunks:  109\n",
      "Finished song: 12-kandA_vandaruL-AbhEri.mp3  Chromagram size:  (12, 11400) Number of Chunks:  19\n",
      "Finished song: 05-nagumOmu_ganalEi_nAjAli-AbhEri-tyAgarAja.mp3  Chromagram size:  (12, 28800) Number of Chunks:  48\n",
      "Finished song: 04-bhajarE_rE_mAnasa_shrI-AbhEri (2).mp3  Chromagram size:  (12, 21000) Number of Chunks:  35\n",
      "Finished song: 06-bhajare_re_manasa-abheri-mysore_vasudevachar.mp3  Chromagram size:  (12, 18000) Number of Chunks:  30\n",
      "Finished song: 07-Kanda_vandarul-Abheri-P_Sivan.mp3  Chromagram size:  (12, 5400) Number of Chunks:  9\n",
      "Finished song: 02-vINAbhEri_vEnuvAdyAdi_vinOdinIm-AbhEri.mp3  Chromagram size:  (12, 19200) Number of Chunks:  32\n",
      "Finished song: 05-nagumOmu_ganalEni-AbhEri (9).mp3  Chromagram size:  (12, 25200) Number of Chunks:  42\n",
      "Finished song: 08-Ishvari_rajeshvari_shankari-abheri-muttiah_bhagavatar.mp3  Chromagram size:  (12, 12600) Number of Chunks:  21\n",
      "Finished song: 05-bhajarE_rE_mAnasa_shrI-AbhEri (2).mp3  Chromagram size:  (12, 76800) Number of Chunks:  128\n",
      "Finished song: 05-kandA_vandaruL-AbhEri (1).mp3  Chromagram size:  (12, 40200) Number of Chunks:  67\n",
      "Finished song: 03-nagumOmu_ganalEni-AbhEri (16).mp3  Chromagram size:  (12, 33000) Number of Chunks:  55\n",
      "Finished song: 04-bhajarE_rE_mAnasa_shrI-AbhEri (14).mp3  Chromagram size:  (12, 28800) Number of Chunks:  48\n",
      "Finished song: 02-nagumOmu_ganalEni-AbhEri (2).mp3  Chromagram size:  (12, 26400) Number of Chunks:  44\n",
      "Finished song: 01_Nagumomu_Abheri_Adi_Thyagaraja_1960.mp3  Chromagram size:  (12, 30600) Number of Chunks:  51\n",
      "Finished song: 05-nagumOmu_ganalEni_nAjAli-AbhEri-tyAgarAja.mp3  Chromagram size:  (12, 20400) Number of Chunks:  34\n",
      "Finished song: 08-nagumOmu_ganalEni-AbhEri (1).mp3  Chromagram size:  (12, 48000) Number of Chunks:  80\n",
      "Finished song: 06-nagumOmu_ganalEni-AbhEri (2).mp3  Chromagram size:  (12, 16200) Number of Chunks:  27\n",
      "Finished song: 10-Eeswari_Rajeswari-Abheri.mp3  Chromagram size:  (12, 27600) Number of Chunks:  46\n",
      "Finished song: 03-bhajarE_rE_mAnasa_shrI-AbhEri (2).mp3  Chromagram size:  (12, 72600) Number of Chunks:  121\n",
      "Finished song: 01-nagumOmu_ganalEni-AbhEri.mp3  Chromagram size:  (12, 62400) Number of Chunks:  104\n",
      "Finished song: 02-bhajarE_rE_mAnasa_shrI-AbhEri (2).mp3  Chromagram size:  (12, 15000) Number of Chunks:  25\n",
      "Finished song: 07-bhajarE_rE_mAnasa-abhEri-thriputa-MysUru_vAsudhEvAchArya.mp3  Chromagram size:  (12, 54000) Number of Chunks:  90\n",
      "Finished song: 17-nagumOmu_ganalEni-AbhEri (1).mp3  Chromagram size:  (12, 4800) Number of Chunks:  8\n",
      "Finished song: 05---Nagumomu---Abheri.mp3  Chromagram size:  (12, 6600) Number of Chunks:  11\n",
      "Finished song: 10-bhajarE_rE_mAnasa_shrI-AbhEri (1).mp3  Chromagram size:  (12, 42600) Number of Chunks:  71\n",
      "Finished song: 05-nagumOmu_ganalEni-AbhEri (5).mp3  Chromagram size:  (12, 58200) Number of Chunks:  97\n"
     ]
    },
    {
     "name": "stdout",
     "output_type": "stream",
     "text": [
      "Finished song: 02-bhajarE_rE_mAnasa_shrI-AbhEri.mp3  Chromagram size:  (12, 18600) Number of Chunks:  31\n",
      "Finished song: 07-nagumOmu_ganalEni-abhEri-Adhi-ThyAgarAja (1).mp3  Chromagram size:  (12, 49200) Number of Chunks:  82\n",
      "Finished song: 02-nagumOmu_ganalEni-AbhEri (10).mp3  Chromagram size:  (12, 31200) Number of Chunks:  52\n",
      "Finished song: 03-kandA_vandaruL-AbhEri (6).mp3  Chromagram size:  (12, 12600) Number of Chunks:  21\n",
      "Finished song: 12-gOkula_nilaya_krpAlaya-AbhEri.mp3  Chromagram size:  (12, 9600) Number of Chunks:  16\n",
      "Finished song: 02-eeshwari_rAjEshwari-AbhEri (1).mp3  Chromagram size:  (12, 58200) Number of Chunks:  97\n",
      "Finished song: 03-nagumOmu_ganalEni-AbhEri (7).mp3  Chromagram size:  (12, 14400) Number of Chunks:  24\n",
      "Finished song: 07-kandA_vandaruL-AbhEri.mp3  Chromagram size:  (12, 12000) Number of Chunks:  20\n",
      "Finished song: 06-nagumOmu_ganalEni-AbhEri (12).mp3  Chromagram size:  (12, 39600) Number of Chunks:  66\n",
      "Finished song: 04-vINAbhEri_vEnuvAdyAdi-AbhEri.mp3  Chromagram size:  (12, 5400) Number of Chunks:  9\n",
      "Finished song: 06-nagumOmu_ganalEni-AbhEri (19).mp3  Chromagram size:  (12, 76800) Number of Chunks:  128\n",
      "Finished song: 01-bhajarE_rE_mAnasa_shrI-AbhEri.mp3  Chromagram size:  (12, 136800) Number of Chunks:  228\n",
      "Finished song: 02-nagumOmu_ganalEni-abhEri-Adhi-thyAgarAja.mp3  Chromagram size:  (12, 27000) Number of Chunks:  45\n",
      "Finished song: 02-nagumOmu_ganalEni-AbhEri (5).mp3  Chromagram size:  (12, 22200) Number of Chunks:  37\n",
      "Finished song: 03-nagumOmu_ganalEni-AbhEri (11).mp3  Chromagram size:  (12, 163200) Number of Chunks:  272\n",
      "Finished song: 04-bhajarE_rE_mAnasa_shrI-AbhEri (13).mp3  Chromagram size:  (12, 27000) Number of Chunks:  45\n",
      "Finished song: 11-bhajare_rE_mAnasA-abhEri-c_thripuTa-MysUru_VAsudhEvAchAr.mp3  Chromagram size:  (12, 36000) Number of Chunks:  60\n",
      "Finished song: 05-nagumOmu_ganalEni-AbhEri (12).mp3  Chromagram size:  (12, 138600) Number of Chunks:  231\n",
      "Finished song: 04-nagumOmu_ganalEni-AbhEri-tyAgarAja (2).mp3  Chromagram size:  (12, 51000) Number of Chunks:  85\n",
      "Finished song: 10-bhajarE_rE_mAnasa_shrI-AbhEri.mp3  Chromagram size:  (12, 42600) Number of Chunks:  71\n",
      "Finished song: 08-bhajarE_rE_mAnasa-abhEri-chathurashra_thriputa-mysUru_vAsudhEvAchAr.mp3  Chromagram size:  (12, 76800) Number of Chunks:  128\n",
      "Finished song: 04-bhajarE_rE_mAnasa_shrI-AbhEri (5).mp3  Chromagram size:  (12, 67200) Number of Chunks:  112\n",
      "Finished song: 04-nagumOmu_ganalEni-AbhEri (7).mp3  Chromagram size:  (12, 61200) Number of Chunks:  102\n",
      "Finished song: 05-Nagumomu-Ganaleni-Abheri.mp3  Chromagram size:  (12, 46200) Number of Chunks:  77\n",
      "Finished song: 05-Kandaa_vandarul-Abheri-P_Sivan.mp3  Chromagram size:  (12, 6000) Number of Chunks:  10\n",
      "Finished song: 01_Nagumomu_Abheri_Adi_Thyagaraja_1960 (15).mp3  Chromagram size:  (12, 30600) Number of Chunks:  51\n",
      "Finished song: 09---Nagumomu---Abheri.mp3  Chromagram size:  (12, 69600) Number of Chunks:  116\n",
      "Finished song: 09-nagumOmu_ganalEni-AbhEri (3).mp3  Chromagram size:  (12, 18000) Number of Chunks:  30\n",
      "Finished song: 08_nagumOmu_ganalEni_nAjAli_AbhEri_tyAgarAja.mp3  Chromagram size:  (12, 34800) Number of Chunks:  58\n",
      "Finished song: 01_Nagumomu_Abheri_Adi_Thyagaraja_1960 (5).mp3  Chromagram size:  (12, 30600) Number of Chunks:  51\n",
      "Finished song: 10-nagumOmu_ganalEni-AbhEri (1).mp3  Chromagram size:  (12, 3000) Number of Chunks:  5\n",
      "Finished song: 06-nagumOmu_ganalEni-AbhEri (9).mp3  Chromagram size:  (12, 18600) Number of Chunks:  31\n",
      "Finished song: 02-bhajarE-AbEri-mysore_vAsudEvAchar.mp3  Chromagram size:  (12, 13800) Number of Chunks:  23\n",
      "Finished song: 06-nagumOmu_ganalEni-AbhEri (15).mp3  Chromagram size:  (12, 41400) Number of Chunks:  69\n",
      "Finished song: 03-rAgam_tAnam_pallavi-AbhEri.mp3  Chromagram size:  (12, 139800) Number of Chunks:  233\n",
      "Finished song: 06_nagumOmu-ganalEni_abhEri_Adi_Tyagaraja.mp3  Chromagram size:  (12, 36600) Number of Chunks:  61\n",
      "Finished song: 02-nagumOmu_ganalEni-AbhEri (9).mp3  Chromagram size:  (12, 31200) Number of Chunks:  52\n",
      "Finished song: 08-bhajarE_rE_mAnasa_shrI-AbhEri (1).mp3  Chromagram size:  (12, 19200) Number of Chunks:  32\n",
      "Finished song: 03-bhajarE_rE_mAnasa-abhEri-thriputa-MysUru_vAsudhEvAchArya.mp3  Chromagram size:  (12, 16800) Number of Chunks:  28\n",
      "Finished song: DKP-09---Bhajare-Re-Manasa---Abheri.mp3  Chromagram size:  (12, 3600) Number of Chunks:  6\n",
      "Finished song: 03-kandA_vandaruL-AbhEri (1).mp3  Chromagram size:  (12, 18000) Number of Chunks:  30\n",
      "Finished song: 05-nagumOmu_ganalEni-AbhEri (2).mp3  Chromagram size:  (12, 151200) Number of Chunks:  252\n",
      "Finished song: 10-bhajarE_rE_mAnasa_shrI-AbhEri (6).mp3  Chromagram size:  (12, 16800) Number of Chunks:  28\n",
      "Finished song: 09-bhajarE_rE_mAnasa_shrI-AbhEri (1).mp3  Chromagram size:  (12, 43200) Number of Chunks:  72\n",
      "Finished song: 04-bhajarE_rE_mAnasa_shrI-AbhEri (9).mp3  Chromagram size:  (12, 87000) Number of Chunks:  145\n",
      "Finished song: 12-nagumOmu_ganalEni-AbhEri.mp3  Chromagram size:  (12, 31800) Number of Chunks:  53\n",
      "Finished song: 08_Nagumomu_Abheri.mp3  Chromagram size:  (12, 144600) Number of Chunks:  241\n",
      "Finished song: 05-ninnu_vinA_mari_galadA-AbhEri.mp3  Chromagram size:  (12, 4200) Number of Chunks:  7\n",
      "Finished song: 05-ninnu_vinA_mari_galadA-AbhEri (1).mp3  Chromagram size:  (12, 7200) Number of Chunks:  12\n",
      "Finished song: 11-nagumOmu_ganalEni-AbhEri-tyAgarAja.mp3  Chromagram size:  (12, 32400) Number of Chunks:  54\n",
      "Finished song: 01_Nagumomu_Abheri_Adi_Thyagaraja_1960 (9).mp3  Chromagram size:  (12, 30600) Number of Chunks:  51\n",
      "Finished song: 08_Bhajare_Abheri.mp3  Chromagram size:  (12, 118200) Number of Chunks:  197\n",
      "Finished song: 03-bhajarE_rE_mAnasa_shrI-AbhEri (5).mp3  Chromagram size:  (12, 24600) Number of Chunks:  41\n",
      "Finished song: 05-bhajarE_rE_mAnasa_shrI-AbhEri-mysore_vAsudevAcAr.mp3  Chromagram size:  (12, 37800) Number of Chunks:  63\n",
      "Finished song: 09-nagumOmu_ganalEni-AbhEri.mp3  Chromagram size:  (12, 22800) Number of Chunks:  38\n",
      "Finished song: 06-nagumOmu_ganalEni-AbhEri (5).mp3  Chromagram size:  (12, 27600) Number of Chunks:  46\n",
      "Finished song: 07-nagumOmu_ganalEni-AbhEri.mp3  Chromagram size:  (12, 22200) Number of Chunks:  37\n",
      "Finished song: 05-bhajare_rE_mAnasa-abhEri-c_thriputa-MysUru_VAsudhEvAchAr (1).mp3  Chromagram size:  (12, 27000) Number of Chunks:  45\n",
      "Finished song: 06-nagumOmu_ganalEni-AbhEri (4).mp3  Chromagram size:  (12, 27600) Number of Chunks:  46\n",
      "Finished song: 05-gOkula_nilaya_krpAlaya-AbhEri-mysore_vAsudevAcAr.mp3  Chromagram size:  (12, 7800) Number of Chunks:  13\n",
      "Finished song: 03-bhajarE_rE_mAnasa_shrI-AbhEri (4).mp3  Chromagram size:  (12, 23400) Number of Chunks:  39\n",
      "Finished song: 08-nagumOmu_ganalEni-abhEri-Adhi-thyAgarAja (1).mp3  Chromagram size:  (12, 16800) Number of Chunks:  28\n",
      "Finished song: 01_Nagumomu_Abheri_Adi_Thyagaraja_1960 (8).mp3  Chromagram size:  (12, 30600) Number of Chunks:  51\n",
      "Finished song: 04-Bhajare-Abheri-Adhi-Vasudhevachar.mp3  Chromagram size:  (12, 15000) Number of Chunks:  25\n",
      "Finished song: 05_BhajarE_rE_mAnasa-abhEri-Adhi-MysUru_VAsudhEvAchArya.mp3  Chromagram size:  (12, 26400) Number of Chunks:  44\n",
      "Finished song: 10-kandA_vandaruL-AbhEri.mp3  Chromagram size:  (12, 8400) Number of Chunks:  14\n",
      "Finished song: 07-nagumOmu_ganalEni-abhEri-Adhi-thyAgarAja.mp3  Chromagram size:  (12, 16800) Number of Chunks:  28\n",
      "Finished song: 04-bhajarE_rE_mAnasa_shrI-AbhEri (8).mp3  Chromagram size:  (12, 43800) Number of Chunks:  73\n",
      "Finished song: 03-bhajare_rE_mAnasA-abhEri-c_thriputa-MysUru_VAsudhEvAchAr.mp3  Chromagram size:  (12, 13800) Number of Chunks:  23\n",
      "Finished song: 04-nagumOmu_ganalEni-AbhEri.mp3  Chromagram size:  (12, 51000) Number of Chunks:  85\n",
      "Finished song: 03-vINAbhEri_vEnuvAdyAdi_vinOdinIm-AbhEri.mp3  Chromagram size:  (12, 6600) Number of Chunks:  11\n",
      "Finished song: 05-nagumOmu_ganalEni-AbhEri (3).mp3  Chromagram size:  (12, 48000) Number of Chunks:  80\n",
      "Finished song: 12-nagumOmu_ganalEni-AbhEri (2).mp3  Chromagram size:  (12, 31800) Number of Chunks:  53\n",
      "Finished song: 04-nagumOmu_ganalEni-AbhEri-tyAgarAja.mp3  Chromagram size:  (12, 79200) Number of Chunks:  132\n",
      "Finished song: 02-nagumOmu_ganalEni-AbhEri (8).mp3  Chromagram size:  (12, 39600) Number of Chunks:  66\n",
      "Finished song: 11-RTP_pallavi-unadhi_padham-abhEri-rAgamAlike_hamIrkalyANi_dhEsh.mp3  Chromagram size:  (12, 87600) Number of Chunks:  146\n"
     ]
    },
    {
     "name": "stdout",
     "output_type": "stream",
     "text": [
      "Finished song: 107-nagumOmu_ganalEni-AbhEri.mp3  Chromagram size:  (12, 31800) Number of Chunks:  53\n",
      "Finished song: 03-nagumOmu_ganalEni-AbhEri (1).mp3  Chromagram size:  (12, 78600) Number of Chunks:  131\n",
      "Finished song: 11-nagumOmu_ganalEni-AbhEri.mp3  Chromagram size:  (12, 8400) Number of Chunks:  14\n",
      "Finished song: 06-nagumOmu_ganalEni-AbhEri (14).mp3  Chromagram size:  (12, 51600) Number of Chunks:  86\n",
      "Finished song: 06-nagumOmu_ganalEni-AbhEri (8).mp3  Chromagram size:  (12, 53400) Number of Chunks:  89\n",
      "Finished song: 06-bhajarE_rE_mAnasa_shrI-AbhEri (4).mp3  Chromagram size:  (12, 141000) Number of Chunks:  235\n",
      "Finished song: 01_Nagumomu_Abheri_Adi_Thyagaraja_1960 (4).mp3  Chromagram size:  (12, 30600) Number of Chunks:  51\n",
      "Finished song: 07-nagumOmu_ganalEni-AbhEri (1).mp3  Chromagram size:  (12, 70800) Number of Chunks:  118\n",
      "Finished song: 09-nagumOmu_ganalEni-AbhEri (2).mp3  Chromagram size:  (12, 27000) Number of Chunks:  45\n",
      "Finished song: 01_Nagumomu_Abheri_Adi_Thyagaraja_1960 (14).mp3  Chromagram size:  (12, 30600) Number of Chunks:  51\n",
      "Finished song: 01-bhajarE_rE_mAnasa_shrI-AbhEri-mysore_vAsudevAcAr.mp3  Chromagram size:  (12, 17400) Number of Chunks:  29\n",
      "Finished song: 04-vINAbhEri_vEnuvAdyAdi_vinOdinI-AbhEri.mp3  Chromagram size:  (12, 6600) Number of Chunks:  11\n",
      "Finished song: 02-vINAbhEri_vEnuvAdyAdi_vinOdinIm-AbhEri (1).mp3  Chromagram size:  (12, 5400) Number of Chunks:  9\n",
      "Finished song: 12-bhajarE_rE_mAnasa_shrI-AbhEri.mp3  Chromagram size:  (12, 12000) Number of Chunks:  20\n",
      "Finished song: 04-bhajarE_rE_mAnasa_shrI-AbhEri (4).mp3  Chromagram size:  (12, 67200) Number of Chunks:  112\n",
      "Finished song: 04-nagumOmu_ganalEni-AbhEri (6).mp3  Chromagram size:  (12, 25800) Number of Chunks:  43\n",
      "Finished song: 04-nagumOmu_ganalEni-AbhEri-tyAgarAja (3).mp3  Chromagram size:  (12, 64200) Number of Chunks:  107\n",
      "Finished song: 05-nagumOmu_ganalEni-AbhEri (13).mp3  Chromagram size:  (12, 128400) Number of Chunks:  214\n",
      "Finished song: 03-bhajarE_rE_mAnasa_shrI-AbhEri.mp3  Chromagram size:  (12, 98400) Number of Chunks:  164\n",
      "Finished song: 05-kandA_vandaruL-AbhEri.mp3  Chromagram size:  (12, 13800) Number of Chunks:  23\n",
      "Finished song: 05-bhajarE_rE_mAnasa_shrI-AbhEri (4).mp3  Chromagram size:  (12, 83400) Number of Chunks:  139\n",
      "Finished song: 02-nagumOmu_ganalEni-AbhEri (4).mp3  Chromagram size:  (12, 68400) Number of Chunks:  114\n",
      "Finished song: 03-nagumOmu_ganalEni-AbhEri (10).mp3  Chromagram size:  (12, 43800) Number of Chunks:  73\n",
      "Finished song: 04-bhajarE_rE_mAnasa_shrI-AbhEri (12).mp3  Chromagram size:  (12, 64800) Number of Chunks:  108\n",
      "Finished song: 06-nagumOmu_ganalEni-AbhEri (18).mp3  Chromagram size:  (12, 33600) Number of Chunks:  56\n",
      "Finished song: 07_BajareManasa_Abheri_Adi.mp3  Chromagram size:  (12, 103200) Number of Chunks:  172\n",
      "Finished song: 01_Nagumomu_Abheri_Adi_Thyagaraja_1960 (7).mp3  Chromagram size:  (12, 30600) Number of Chunks:  51\n",
      "Finished song: 05-vINAbhEri_vEnuvAdyAdi_vinOdinIm-AbhEri.mp3  Chromagram size:  (12, 5400) Number of Chunks:  9\n",
      "Finished song: 07-nagumOmu_ganalEni-AbhEri (2).mp3  Chromagram size:  (12, 24000) Number of Chunks:  40\n",
      "Finished song: 09-nagumOmu_ganalEni-AbhEri (1).mp3  Chromagram size:  (12, 18000) Number of Chunks:  30\n",
      "Finished song: 10-nagumOmu_ganalEni-AbhEri.mp3  Chromagram size:  (12, 41400) Number of Chunks:  69\n",
      "Finished song: 01_Nagumomu_Abheri_Adi_Thyagaraja_1960 (17).mp3  Chromagram size:  (12, 30600) Number of Chunks:  51\n",
      "Finished song: 05-nagumOmu_ganalEni-AbhEri.mp3  Chromagram size:  (12, 55800) Number of Chunks:  93\n",
      "Finished song: 04-kandA_vandaruL-AbhEri.mp3  Chromagram size:  (12, 37200) Number of Chunks:  62\n",
      "Finished song: 06-rAgam_tAnam_pallavi-AbhEri.mp3  Chromagram size:  (12, 108600) Number of Chunks:  181\n",
      "Finished song: 02-vINAbhEri_vEnuvAdyAdi_vinOdinIm-AbhEri (2).mp3  Chromagram size:  (12, 6600) Number of Chunks:  11\n",
      "Finished song: 04-bhajarE_rE_mAnasa_shrI-AbhEri (7).mp3  Chromagram size:  (12, 76800) Number of Chunks:  128\n",
      "Finished song: 04-nagumOmu_ganalEni-AbhEri (5).mp3  Chromagram size:  (12, 58800) Number of Chunks:  98\n",
      "Finished song: 05-bhajarE_rE_mAnasa_shrI-AbhEri.mp3  Chromagram size:  (12, 30000) Number of Chunks:  50\n",
      "Finished song: 05-nagumOmu_ganalEni-AbhEri (10).mp3  Chromagram size:  (12, 112200) Number of Chunks:  187\n",
      "Finished song: 04-bhajarE_rE_mAnasa_shrI-AbhEri-mysore_vAsudevAcAr.mp3  Chromagram size:  (12, 63000) Number of Chunks:  105\n",
      "Finished song: 02-eeshwari_rAjEshwari-AbhEri.mp3  Chromagram size:  (12, 11400) Number of Chunks:  19\n",
      "Finished song: 03-nagumOmu_ganalEni-AbhEri (13).mp3  Chromagram size:  (12, 118200) Number of Chunks:  197\n",
      "Finished song: 04-bhajarE_rE_mAnasa_shrI-AbhEri (11).mp3  Chromagram size:  (12, 51600) Number of Chunks:  86\n",
      "Finished song: 02-nagumOmu_ganalEni-AbhEri (7).mp3  Chromagram size:  (12, 70200) Number of Chunks:  117\n",
      "Finished song: 11_nagumOmu_Abheri_Adi_Thyagaraja.mp3  Chromagram size:  (12, 24600) Number of Chunks:  41\n",
      "Finished song: 06-nagumOmu_ganalEni-abhEri-Adhi-thyAgarAja.mp3  Chromagram size:  (12, 31800) Number of Chunks:  53\n",
      "Finished song: 11-eeshwari_rAjEshwari-AbhEri.mp3  Chromagram size:  (12, 14400) Number of Chunks:  24\n",
      "Finished song: 04-gOkula_nilaya_krpAlaya-AbhEri.mp3  Chromagram size:  (12, 6600) Number of Chunks:  11\n",
      "Finished song: bhajare_rE_mAnasA-abhEri-c_thripuTa-MysUru_VAsudhEvAchAr.mp3  Chromagram size:  (12, 41400) Number of Chunks:  69\n",
      "Finished song: 06-nagumOmu_ganalEni-AbhEri (7).mp3  Chromagram size:  (12, 73800) Number of Chunks:  123\n",
      "Finished song: 03-bhajarE_rE_mAnasa_shrI-AbhEri (7).mp3  Chromagram size:  (12, 94200) Number of Chunks:  157\n",
      "Finished song: 08-bhajarE_rE_mAnasa_shrI-AbhEri.mp3  Chromagram size:  (12, 41400) Number of Chunks:  69\n",
      "Finished song: 03-vINAbhEri_vEnuvAdyAdi_vinOdinIm-AbhEri (1).mp3  Chromagram size:  (12, 4800) Number of Chunks:  8\n",
      "Finished song: 05-ninnu_vinA_mari_galadA-AbhEri (3).mp3  Chromagram size:  (12, 29400) Number of Chunks:  49\n",
      "Finished song: 04-VINA_bhEri-AbhEri.mp3  Chromagram size:  (12, 6600) Number of Chunks:  11\n",
      "Finished song: 03-nagumOmu_ganalEni_nAjAli-AbhEri-tyAgarAja (1).mp3  Chromagram size:  (12, 35400) Number of Chunks:  59\n",
      "Finished song: 10-bhajarE_rE_mAnasa_shrI-AbhEri (4).mp3  Chromagram size:  (12, 21600) Number of Chunks:  36\n",
      "Finished song: 12-vINAbhEri_vEnuvAdyAdi_vinOdinIm-AbhEri.mp3  Chromagram size:  (12, 8400) Number of Chunks:  14\n",
      "Finished song: 03-kandA_vandaruL-AbhEri (3).mp3  Chromagram size:  (12, 16800) Number of Chunks:  28\n",
      "Finished song: 02-nagumOmu_ganalEni-AbhEri (15).mp3  Chromagram size:  (12, 46800) Number of Chunks:  78\n",
      "Finished song: 12-nagumOmu_ganalEni-AbhEri (1).mp3  Chromagram size:  (12, 31800) Number of Chunks:  53\n",
      "Finished song: 03-nagumOmu_ganalEni-AbhEri (2).mp3  Chromagram size:  (12, 78600) Number of Chunks:  131\n",
      "Finished song: 06-nagumOmu_ganalEni-AbhEri (17).mp3  Chromagram size:  (12, 31200) Number of Chunks:  52\n",
      "Finished song: 06-nagumOmu_ganalEni-AbhEri (16).mp3  Chromagram size:  (12, 109800) Number of Chunks:  183\n",
      "Finished song: 03-nagumOmu_ganalEni-AbhEri (3).mp3  Chromagram size:  (12, 34800) Number of Chunks:  58\n",
      "Finished song: 05_kandA_vandharul_-_AbhEri.mp3  Chromagram size:  (12, 12000) Number of Chunks:  20\n",
      "Finished song: 08-bhajarE_rE_mAnasa_shrI-AbhEri (2).mp3  Chromagram size:  (12, 57600) Number of Chunks:  96\n",
      "Finished song: 006a-Abheri-Raga_Alapanai.mp3  Chromagram size:  (12, 7800) Number of Chunks:  13\n",
      "Finished song: 03-kandA_vandaruL-AbhEri (2).mp3  Chromagram size:  (12, 66600) Number of Chunks:  111\n",
      "Finished song: 02-nagumOmu_ganalEni-AbhEri (14).mp3  Chromagram size:  (12, 40200) Number of Chunks:  67\n",
      "Finished song: 05-nagumOmu_ganalEni-AbhEri (1).mp3  Chromagram size:  (12, 60600) Number of Chunks:  101\n",
      "Finished song: 09-bhajarE_rE_mAnasa_shrI-AbhEri (2).mp3  Chromagram size:  (12, 17400) Number of Chunks:  29\n",
      "Finished song: 10-bhajarE_rE_mAnasa_shrI-AbhEri (5).mp3  Chromagram size:  (12, 29400) Number of Chunks:  49\n",
      "Finished song: 04-nagumOmu_ganalEni-AbhEri (8).mp3  Chromagram size:  (12, 40200) Number of Chunks:  67\n",
      "Finished song: 10_AlApane_abhEri.mp3  Chromagram size:  (12, 34200) Number of Chunks:  57\n",
      "Finished song: 03-nagumOmu_ganalEni-abhEri-Adhi-ThyAgarAja.mp3  Chromagram size:  (12, 39600) Number of Chunks:  66\n"
     ]
    },
    {
     "name": "stdout",
     "output_type": "stream",
     "text": [
      "Finished song: 05-ninnu_vinA_mari_galadA-AbhEri (2).mp3  Chromagram size:  (12, 10200) Number of Chunks:  17\n",
      "Finished song: 031-nagumOmu_ganalEni-AbhEri.mp3  Chromagram size:  (12, 30600) Number of Chunks:  51\n",
      "Finished song: 03-ninnu_vinA_mari_galadA-AbhEri.mp3  Chromagram size:  (12, 46800) Number of Chunks:  78\n",
      "Finished song: 03-bhajarE_rE_mAnasa_shrI-AbhEri (6).mp3  Chromagram size:  (12, 25200) Number of Chunks:  42\n",
      "Finished song: 06-nagumOmu_ganalEni-AbhEri (6).mp3  Chromagram size:  (12, 22200) Number of Chunks:  37\n",
      "Finished song: 05-rAgam_AbhEri (1).mp3  Chromagram size:  (12, 61200) Number of Chunks:  102\n",
      "Finished song: 06-nagumOmu_ganalEni-AbhEri.mp3  Chromagram size:  (12, 600) Number of Chunks:  1\n",
      "Finished song: 06-gOkula_nilaya_krpAlaya-AbhEri.mp3  Chromagram size:  (12, 9600) Number of Chunks:  16\n",
      "Finished song: 03-nagumOmu_ganalEni-AbhEri (12).mp3  Chromagram size:  (12, 122400) Number of Chunks:  204\n",
      "Finished song: 04-bhajarE_rE_mAnasa_shrI-AbhEri (10).mp3  Chromagram size:  (12, 34800) Number of Chunks:  58\n",
      "Finished song: 02-nagumOmu_ganalEni-AbhEri (6).mp3  Chromagram size:  (12, 57000) Number of Chunks:  95\n",
      "Finished song: 08-nagumOmu_ganalEni-AbhEri.mp3  Chromagram size:  (12, 134400) Number of Chunks:  224\n",
      "Finished song: 05-nagumOmu_ganalEni-AbhEri (11).mp3  Chromagram size:  (12, 50400) Number of Chunks:  84\n",
      "Finished song: 07-vINAbhEri_vEnuvAdyAdi_vinOdinIm-AbhEri.mp3  Chromagram size:  (12, 4200) Number of Chunks:  7\n",
      "Finished song: DKP-08---Bhajare-Re-Manasa---Abheri (1).mp3  Chromagram size:  (12, 58200) Number of Chunks:  97\n",
      "Finished song: 13-nagumOmu_ganalEni-AbhEri.mp3  Chromagram size:  (12, 6600) Number of Chunks:  11\n",
      "Finished song: 04-nagumOmu_ganalEni-AbhEri-tyAgarAja (1).mp3  Chromagram size:  (12, 52200) Number of Chunks:  87\n",
      "Finished song: 04-bhajarE_rE_mAnasa_shrI-AbhEri (6).mp3  Chromagram size:  (12, 95400) Number of Chunks:  159\n",
      "Finished song: 04-nagumOmu_ganalEni-AbhEri (4).mp3  Chromagram size:  (12, 48600) Number of Chunks:  81\n",
      "Finished song: 07-bhajarE_rE_mAnasa_shrI-AbhEri.mp3  Chromagram size:  (12, 36600) Number of Chunks:  61\n",
      "Finished song: 02-vINAbhEri_vEnuvAdyAdi_vinOdinIm-AbhEri (3).mp3  Chromagram size:  (12, 6600) Number of Chunks:  11\n",
      "Finished song: 01-nagumOmu_ganalEni-AbhEri (1).mp3  Chromagram size:  (12, 70200) Number of Chunks:  117\n",
      "Finished song: 05-bhajare_rE_mAnasA-abhEri-c_thriputa-MysUru_VAsudhEvAchAr.mp3  Chromagram size:  (12, 24000) Number of Chunks:  40\n",
      "Finished song: 01_Nagumomu_Abheri_Adi_Thyagaraja_1960 (16).mp3  Chromagram size:  (12, 30600) Number of Chunks:  51\n",
      "Finished song: 03-kandA_vandaruL-AbhEri.mp3  Chromagram size:  (12, 20400) Number of Chunks:  34\n",
      "Finished song: 07-nagumOmu_ganalEni-AbhEri (3).mp3  Chromagram size:  (12, 22200) Number of Chunks:  37\n",
      "Finished song: 10-nagumOmu_ganalEni-AbhEri (2).mp3  Chromagram size:  (12, 24000) Number of Chunks:  40\n",
      "Finished song: 01_Nagumomu_Abheri_Adi_Thyagaraja_1960 (6).mp3  Chromagram size:  (12, 30600) Number of Chunks:  51\n",
      "Finished song: 08-nagumOmu_ganalEni-AbhEri (2).mp3  Chromagram size:  (12, 103800) Number of Chunks:  173\n",
      "Finished song: 06-nagumOmu_ganalEni-AbhEri (1).mp3  Chromagram size:  (12, 25800) Number of Chunks:  43\n",
      "Finished song: 04-vINAbhEri_vEnuvAdyAdi_vinOdinIm-AbhEri.mp3  Chromagram size:  (12, 7800) Number of Chunks:  13\n",
      "Finished song: 03-bhajarE_rE_mAnasa_shrI-AbhEri (1).mp3  Chromagram size:  (12, 40200) Number of Chunks:  67\n",
      "Finished song: 07-nagumOmu_ganalEni-AbhEri (8).mp3  Chromagram size:  (12, 56400) Number of Chunks:  94\n",
      "Finished song: 07_Nagumomu_Abheri_Adi_Tyagaraja.mp3  Chromagram size:  (12, 26400) Number of Chunks:  44\n",
      "Finished song: 02-bhajarE_rE_mAnasa_shrI-AbhEri (1).mp3  Chromagram size:  (12, 47400) Number of Chunks:  79\n",
      "Finished song: 03-eeshwari_rAjEshwari-AbhEri.mp3  Chromagram size:  (12, 9600) Number of Chunks:  16\n",
      "Finished song: 10-bhajarE_rE_mAnasa_shrI-AbhEri (2).mp3  Chromagram size:  (12, 20400) Number of Chunks:  34\n",
      "Finished song: 05-gOkula_nilaya_krpAlaya-AbhEri.mp3  Chromagram size:  (12, 6600) Number of Chunks:  11\n",
      "Finished song: 07-nagumOmu_ganalEni-abhEri-Adhi-thyAgarAja (2).mp3  Chromagram size:  (12, 40200) Number of Chunks:  67\n",
      "Finished song: 05-nagumOmu_ganalEni-AbhEri (6).mp3  Chromagram size:  (12, 21600) Number of Chunks:  36\n",
      "Finished song: 03-kandA_vandaruL-AbhEri (5).mp3  Chromagram size:  (12, 28800) Number of Chunks:  48\n",
      "Finished song: 02-nagumOmu_ganalEni-AbhEri (13).mp3  Chromagram size:  (12, 40200) Number of Chunks:  67\n",
      "Finished song: 04-bhajarE_rE_mAnasa_shrI-AbhEri.mp3  Chromagram size:  (12, 61800) Number of Chunks:  103\n",
      "Finished song: 14-nagumOmu_ganalEni-abhEri-Adhi-thyAgarAja.mp3  Chromagram size:  (12, 18600) Number of Chunks:  31\n",
      "Finished song: 03-nagumOmu_ganalEni-AbhEri (4).mp3  Chromagram size:  (12, 33600) Number of Chunks:  56\n",
      "Finished song: 06-nagumOmu_ganalEni-AbhEri (11).mp3  Chromagram size:  (12, 27000) Number of Chunks:  45\n",
      "Finished song: 06-bhajarE_rE_mAnasa_shrI-AbhEri (1).mp3  Chromagram size:  (12, 72000) Number of Chunks:  120\n",
      "Finished song: 01_Nagumomu_Abheri_Adi_Thyagaraja_1960 (1).mp3  Chromagram size:  (12, 30600) Number of Chunks:  51\n",
      "Finished song: 04-Ninnuvina-Abheri-Rupakam-Shyama_Sasthri.mp3  Chromagram size:  (12, 10200) Number of Chunks:  17\n",
      "Finished song: 07-nagumOmu_ganalEni-AbhEri (4).mp3  Chromagram size:  (12, 66600) Number of Chunks:  111\n",
      "Finished song: 09-nagumOmu_ganalEni-AbhEri (7).mp3  Chromagram size:  (12, 94200) Number of Chunks:  157\n",
      "Finished song: 07-bhajarE_rE_mAnasa-abhEri-chathshra_thriputa-mysUru_vAsudhEvAchAr.mp3  Chromagram size:  (12, 19200) Number of Chunks:  32\n",
      "Finished song: 04-vINAbhEri_vEnuvAdyAdi-AbhEri (1).mp3  Chromagram size:  (12, 4800) Number of Chunks:  8\n",
      "Finished song: 01_Nagumomu_Abheri_Adi_Thyagaraja_1960 (11).mp3  Chromagram size:  (12, 30600) Number of Chunks:  51\n",
      "Finished song: 05-bhajarE_rE_mAnasa_shrI-AbhEri-mysore_vAsudevAcAr (1).mp3  Chromagram size:  (12, 67800) Number of Chunks:  113\n",
      "Finished song: 07-bhajarE_rE_mAnasa_shrI-AbhEri (1).mp3  Chromagram size:  (12, 11400) Number of Chunks:  19\n",
      "Finished song: 09-bhajarE_rE_mAnasa_shrI-AbhEri.mp3  Chromagram size:  (12, 54600) Number of Chunks:  91\n",
      "Finished song: 10_AlApane_abhEri (1).mp3  Chromagram size:  (12, 34200) Number of Chunks:  57\n",
      "Finished song: 04-nagumOmu_ganalEni-AbhEri (3).mp3  Chromagram size:  (12, 44400) Number of Chunks:  74\n",
      "Finished song: 04-bhajarE_rE_mAnasa_shrI-AbhEri (1).mp3  Chromagram size:  (12, 69600) Number of Chunks:  116\n",
      "Finished song: 05-bhajarE_rE_mAnasa_shrI-AbhEri (1).mp3  Chromagram size:  (12, 43800) Number of Chunks:  73\n",
      "Finished song: 02-nagumOmu_ganalEni-AbhEri (1).mp3  Chromagram size:  (12, 29400) Number of Chunks:  49\n",
      "Finished song: 03-nagumOmu_ganalEni-AbhEri (15).mp3  Chromagram size:  (12, 50400) Number of Chunks:  84\n",
      "Finished song: 04-bhajarE_rE_mAnasa_shrI-AbhEri (17).mp3  Chromagram size:  (12, 16800) Number of Chunks:  28\n",
      "Finished song: 03-nagumOmu_ganalEni-AbhEri (8).mp3  Chromagram size:  (12, 54000) Number of Chunks:  90\n",
      "Finished song: 13-kandA_vandaruL-AbhEri.mp3  Chromagram size:  (12, 9600) Number of Chunks:  16\n",
      "Finished song: 05-kandhA_vandharuL-abhEri-Adhi-pApanAsham_shivan.mp3  Chromagram size:  (12, 11400) Number of Chunks:  19\n",
      "Finished song: 03-bhajarE_rE_mAnasa-abhEri-thriputa-MysUru_vAsudhEvAchArya (1).mp3  Chromagram size:  (12, 27000) Number of Chunks:  45\n",
      "Finished song: 03-nagumOmu_ganalEni-AbhEri (9).mp3  Chromagram size:  (12, 31200) Number of Chunks:  52\n",
      "Finished song: 03-nagumOmu_ganalEni-AbhEri (14).mp3  Chromagram size:  (12, 16200) Number of Chunks:  27\n",
      "Finished song: 04-bhajarE_rE_mAnasa_shrI-AbhEri (16).mp3  Chromagram size:  (12, 31200) Number of Chunks:  52\n",
      "Finished song: 11-RTP_pallavi-unadhi_padham-abhEri-rAgamAlike_hamIrkalyANi_dhEsh (1).mp3  Chromagram size:  (12, 87600) Number of Chunks:  146\n",
      "Finished song: 08-abhEri-AlApane.mp3  Chromagram size:  (12, 31800) Number of Chunks:  53\n",
      "Finished song: 04-Veenabheri-Abheri-Adhi-Dhikshithar.mp3  Chromagram size:  (12, 6000) Number of Chunks:  10\n",
      "Finished song: 05-Nagumomu-Aaberi.mp3  Chromagram size:  (12, 27600) Number of Chunks:  46\n",
      "Finished song: 09-nagumOmu_ganalEni-abhEri-Adhi-thyAgarAja.mp3  Chromagram size:  (12, 52800) Number of Chunks:  88\n"
     ]
    },
    {
     "name": "stdout",
     "output_type": "stream",
     "text": [
      "Finished song: 04-nagumOmu_ganalEni-AbhEri (2).mp3  Chromagram size:  (12, 36600) Number of Chunks:  61\n",
      "Finished song: DKP-08---Bhajare-Re-Manasa---Abheri.mp3  Chromagram size:  (12, 39600) Number of Chunks:  66\n",
      "Finished song: 09-bhajarE_rE_mAnasa_shrI-AbhEri-mysore_vAsudevAcAr (1).mp3  Chromagram size:  (12, 35400) Number of Chunks:  59\n",
      "Finished song: 04-nagumOmu_ganalEni-abhEri-Adhi-thyAgarAja.mp3  Chromagram size:  (12, 25200) Number of Chunks:  42\n",
      "Finished song: 03-nagumOmu_ganalEni-AbhEri.mp3  Chromagram size:  (12, 16200) Number of Chunks:  27\n",
      "Finished song: 11-nagumOmu_ganalEni-abhEri-Adhi-thyAgarAja.mp3  Chromagram size:  (12, 23400) Number of Chunks:  39\n",
      "Finished song: 09-nagumOmu_ganalEni-abhEri-Adhi-thyAgarAja (1).mp3  Chromagram size:  (12, 37200) Number of Chunks:  62\n",
      "Finished song: 01_Nagumomu_Abheri_Adi_Thyagaraja_1960 (10).mp3  Chromagram size:  (12, 30600) Number of Chunks:  51\n",
      "Finished song: 07-nagumOmu_ganalEni-AbhEri (5).mp3  Chromagram size:  (12, 21000) Number of Chunks:  35\n",
      "Finished song: 09-nagumOmu_ganalEni-AbhEri (6).mp3  Chromagram size:  (12, 25200) Number of Chunks:  42\n",
      "Finished song: 16-nagumOmu_ganalEni-AbhEri.mp3  Chromagram size:  (12, 19200) Number of Chunks:  32\n",
      "Finished song: 03-nagumOmu_ganalEni_nAjAli-AbhEri-tyAgarAja.mp3  Chromagram size:  (12, 65400) Number of Chunks:  109\n",
      "Finished song: 04_Bhajare_Manasa_Abheri.mp3  Chromagram size:  (12, 33000) Number of Chunks:  55\n",
      "Finished song: 06-nagumOmu_ganalEni-AbhEri (10).mp3  Chromagram size:  (12, 78600) Number of Chunks:  131\n",
      "Finished song: 06-bhajarE_rE_mAnasa_shrI-AbhEri.mp3  Chromagram size:  (12, 121800) Number of Chunks:  203\n",
      "Finished song: 03-nagumOmu_ganalEni-AbhEri (5).mp3  Chromagram size:  (12, 16200) Number of Chunks:  27\n",
      "Finished song: 03-nagumOmu-ganalEni_Abheri_Adi_Thyagaraja.mp3  Chromagram size:  (12, 49200) Number of Chunks:  82\n",
      "Finished song: 03-kandA_vandaruL-AbhEri (4).mp3  Chromagram size:  (12, 13200) Number of Chunks:  22\n",
      "Finished song: 02-nagumOmu_ganalEni-AbhEri (12).mp3  Chromagram size:  (12, 40200) Number of Chunks:  67\n",
      "Finished song: 05-nagumOmu_ganalEni-AbhEri (7).mp3  Chromagram size:  (12, 138600) Number of Chunks:  231\n",
      "Finished song: 08---Nagumomu---Abheri.mp3  Chromagram size:  (12, 15600) Number of Chunks:  26\n",
      "Finished song: 10-bhajarE_rE_mAnasa_shrI-AbhEri (3).mp3  Chromagram size:  (12, 25200) Number of Chunks:  42\n",
      "Finished song: 05-rAgam_AbhEri.mp3  Chromagram size:  (12, 61200) Number of Chunks:  102\n",
      "Finished song: 01-kandA_vandaruL-AbhEri.mp3  Chromagram size:  (12, 13800) Number of Chunks:  23\n",
      "Finished song: 07-bhajare_rE_mAnasA-abhEri-c_thripuTa-MysUru_VAsudhEvAchAr (1).mp3  Chromagram size:  (12, 94800) Number of Chunks:  158\n",
      "Finished song: 07---Nagumomu---Abheri.mp3  Chromagram size:  (12, 42000) Number of Chunks:  70\n",
      "FAILED: 07-nagumOmu_ganalEni-AbhEri (9).MP3\n",
      "Finished song: 11-nagumOmu_ganalEni-AbhEri (1).mp3  Chromagram size:  (12, 4200) Number of Chunks:  7\n"
     ]
    }
   ],
   "source": [
    "chr_list = save_chunks('AbhEri')"
   ]
  },
  {
   "cell_type": "code",
   "execution_count": 7,
   "metadata": {},
   "outputs": [],
   "source": [
    "np.save(\"abheri.npy\", chr_list)"
   ]
  },
  {
   "cell_type": "code",
   "execution_count": 8,
   "metadata": {},
   "outputs": [
    {
     "name": "stdout",
     "output_type": "stream",
     "text": [
      "Finished song: 004-Sri_Parthasarathy-Suddha_Dhanyasi-Rupakam-Dhikshithar.mp3  Chromagram size:  (12, 2400) Number of Chunks:  4\n",
      "Finished song: 05-subrahmaNyEna_rakSitOham-shuddhadhanyAsi (4).mp3  Chromagram size:  (12, 21000) Number of Chunks:  35\n",
      "Finished song: 04-shrI_pArthasArathinA-shuddhadhanyAsi (4).mp3  Chromagram size:  (12, 72000) Number of Chunks:  120\n",
      "Finished song: 10-RTP-pallavi-shuDhDha_DhanyAsi-ghan_rAga_pancha_rAgamAlike (3).mp3  Chromagram size:  (12, 55800) Number of Chunks:  93\n",
      "Finished song: 10-RTP-pallavi-shuDhDha_DhanyAsi-ghan_rAga_pancha_rAgamAlike.mp3  Chromagram size:  (12, 55800) Number of Chunks:  93\n",
      "Finished song: 01-subrahmaNyEna_rakSitOham-shuddhadhanyAsi (9).mp3  Chromagram size:  (12, 19200) Number of Chunks:  32\n",
      "Finished song: 03-himagiri_tanayE-shuddhadhanyAsi (5).mp3  Chromagram size:  (12, 19800) Number of Chunks:  33\n",
      "Finished song: 01-shrI_rAjamAtangi-shuddhadhanyAsi (25).mp3  Chromagram size:  (12, 16200) Number of Chunks:  27\n",
      "Finished song: 03-subrahmaNyEna_rakSitOham-shuddhadhanyAsi (5).mp3  Chromagram size:  (12, 28200) Number of Chunks:  47\n",
      "Finished song: 02-sAmOdaM_cintayAmi-shuddhadhanyAsi-swAtitirunAL.mp3  Chromagram size:  (12, 52800) Number of Chunks:  88\n",
      "Finished song: 02-shrI_pArthasArathinA-shuddhadhanyAsi (1).mp3  Chromagram size:  (12, 22200) Number of Chunks:  37\n",
      "Finished song: 05-Sri_Parthasarathi_na-Sudha_dhanyasi-Deekshithar.mp3  Chromagram size:  (12, 33600) Number of Chunks:  56\n",
      "Finished song: 01-sAmOdaM_cintayAmi-shuddhadhanyAsi (3).mp3  Chromagram size:  (12, 29400) Number of Chunks:  49\n",
      "Finished song: 04-shrI_pArthasArathinA-shuddhadhanyAsi-m.dIkshitar.mp3  Chromagram size:  (12, 23400) Number of Chunks:  39\n",
      "Finished song: 03-shrI_pArthasArathinA-shuddhadhanyAsi (2).mp3  Chromagram size:  (12, 39600) Number of Chunks:  66\n",
      "Finished song: 01-azhagA_azhagA-shuddhadhanyAsi-ambujam_krishna.mp3  Chromagram size:  (12, 38400) Number of Chunks:  64\n",
      "Finished song: 02-subrahmaNyEna_rakSitOham-shuddhadhanyAsi (1).mp3  Chromagram size:  (12, 40800) Number of Chunks:  68\n",
      "Finished song: 02-subrahmaNyEna_rakSitOham-shuddhadhanyAsi (15).mp3  Chromagram size:  (12, 18600) Number of Chunks:  31\n",
      "Finished song: 01-subrahmaNyEna_rakSitOham-shuddhadhanyAsi (5).mp3  Chromagram size:  (12, 25800) Number of Chunks:  43\n",
      "Finished song: 01_himagiri_tanayE_hEmalate_shuddha_dhanyAsi_Adhi_HMB.mp3  Chromagram size:  (12, 9000) Number of Chunks:  15\n",
      "Finished song: 06-jaya_jaya_guhA-shuddhadhanyAsi.mp3  Chromagram size:  (12, 12600) Number of Chunks:  21\n",
      "Finished song: 03-himagiri_tanayE-shuddhadhanyAsi.mp3  Chromagram size:  (12, 42000) Number of Chunks:  70\n",
      "Finished song: 01-shrI_pArthasArathinA-shuddhadhanyAsi-m_dIkshitar.mp3  Chromagram size:  (12, 13800) Number of Chunks:  23\n",
      "Finished song: 01-shrI_pArthasArathinA-shuddhadhanyAsi (5).mp3  Chromagram size:  (12, 15600) Number of Chunks:  26\n",
      "Finished song: 04-Bherundambe_beduve-sudhadanyasi-muttiah_bhagavatar.mp3  Chromagram size:  (12, 11400) Number of Chunks:  19\n",
      "Finished song: 06-sAmOdaM_cintayAmi-shuddhadhanyAsi (2).mp3  Chromagram size:  (12, 18000) Number of Chunks:  30\n",
      "Finished song: 02-shrI_pArthasArathinA-shuddhadhanyAsi.mp3  Chromagram size:  (12, 41400) Number of Chunks:  69\n",
      "Finished song: 10-himagiri_tanayE-shuddhadhanyAsi.mp3  Chromagram size:  (12, 7800) Number of Chunks:  13\n",
      "Finished song: 01-shrI_rAjamAtangi-shuddhadhanyAsi (13).mp3  Chromagram size:  (12, 12600) Number of Chunks:  21\n",
      "Finished song: 01-shrI_rAjamAtangi-shuddhadhanyAsi (12).mp3  Chromagram size:  (12, 13200) Number of Chunks:  22\n",
      "Finished song: 06-rAgam_tAnam_pallavi-shuddhadhanyAsi.mp3  Chromagram size:  (12, 90600) Number of Chunks:  151\n",
      "Finished song: 06-sAmOdaM_cintayAmi-shuddhadhanyAsi (3).mp3  Chromagram size:  (12, 18000) Number of Chunks:  30\n",
      "Finished song: 01-shrI_pArthasArathinA-shuddhadhanyAsi (4).mp3  Chromagram size:  (12, 10800) Number of Chunks:  18\n",
      "Finished song: 06-himagiri_tanayE-shuddhadhanyAsi-muthaiah_bAgavatar.mp3  Chromagram size:  (12, 51600) Number of Chunks:  86\n",
      "Finished song: 06_subrahmaNyEna_rakSitOham_shuddhadhanyAsi_m.dIkshitar.mp3  Chromagram size:  (12, 48000) Number of Chunks:  80\n",
      "Finished song: 04-subrahmaNyEna_rakSitOham-shuddhadhanyAsi (1).mp3  Chromagram size:  (12, 21600) Number of Chunks:  36\n",
      "Finished song: 01-subrahmaNyEna_rakSitOham-shuddhadhanyAsi-m_dIkshitar.mp3  Chromagram size:  (12, 16200) Number of Chunks:  27\n",
      "Finished song: 05-himagiri_tanayE-shuddhadhanyAsi (2).mp3  Chromagram size:  (12, 65400) Number of Chunks:  109\n",
      "Finished song: 02-azhagA_azhagA-shuddhadhanyAsi (2).mp3  Chromagram size:  (12, 52800) Number of Chunks:  88\n",
      "Finished song: 02-subrahmaNyEna_rakSitOham-shuddhadhanyAsi (14).mp3  Chromagram size:  (12, 16200) Number of Chunks:  27\n",
      "Finished song: 01-subrahmaNyEna_rakSitOham-shuddhadhanyAsi (4).mp3  Chromagram size:  (12, 30000) Number of Chunks:  50\n",
      "Finished song: 04-subrahmaNyEna_rakSitOham-shuddhadhanyAsi-m.dIkshitar (1).mp3  Chromagram size:  (12, 77400) Number of Chunks:  129\n",
      "Finished song: 03-shrI_pArthasArathinA-shuddhadhanyAsi (3).mp3  Chromagram size:  (12, 31800) Number of Chunks:  53\n",
      "Finished song: 01-sAmOdaM_cintayAmi-shuddhadhanyAsi (2).mp3  Chromagram size:  (12, 33000) Number of Chunks:  55\n",
      "Finished song: 05-azhagA_azhagA-shuddhadhanyAsi.mp3  Chromagram size:  (12, 15600) Number of Chunks:  26\n",
      "Finished song: 01-shrI_rAjamAtangi-shuddhadhanyAsi (1).mp3  Chromagram size:  (12, 11400) Number of Chunks:  19\n",
      "Finished song: 05-subrahmaNyEna_rakSitOham-shuddhadhanyAsi.mp3  Chromagram size:  (12, 55800) Number of Chunks:  93\n",
      "Finished song: 02-azhagA_azhagA-shuddhadhanyAsi-ambujam_krishna.mp3  Chromagram size:  (12, 60000) Number of Chunks:  100\n",
      "Finished song: 03-himagiri_tanayE-shuddhadhanyAsi-muthaiah_bAgavatar (1).mp3  Chromagram size:  (12, 34200) Number of Chunks:  57\n",
      "Finished song: 03-subrahmaNyEna_rakSitOham-shuddhadhanyAsi (4).mp3  Chromagram size:  (12, 30000) Number of Chunks:  50\n",
      "Finished song: 08-subrahmaNyEna_rakSitOham-shuddhadhanyAsi.mp3  Chromagram size:  (12, 36600) Number of Chunks:  61\n",
      "Finished song: 01-shrI_rAjamAtangi-shuddhadhanyAsi (24).mp3  Chromagram size:  (12, 17400) Number of Chunks:  29\n",
      "Finished song: 03-himagiri_tanayE-shuddhadhanyAsi (4).mp3  Chromagram size:  (12, 7200) Number of Chunks:  12\n",
      "Finished song: 06-subrahmaNyEna_rakSitOham-shuddhadhanyAsi (1).mp3  Chromagram size:  (12, 12000) Number of Chunks:  20\n",
      "Finished song: 10-RTP-pallavi-shuDhDha_DhanyAsi-ghan_rAga_pancha_rAgamAlike (2).mp3  Chromagram size:  (12, 55800) Number of Chunks:  93\n",
      "Finished song: 01-subrahmaNyEna_rakSitOham-shuddhadhanyAsi (8).mp3  Chromagram size:  (12, 23400) Number of Chunks:  39\n",
      "Finished song: 05-subrahmaNyEna_rakSitOham-shuddhadhanyAsi (5).mp3  Chromagram size:  (12, 21600) Number of Chunks:  36\n",
      "Finished song: 04-subrahmaNyEna_rakSitOham-shuddhadhanyAsi-m.dIkshitar.mp3  Chromagram size:  (12, 3600) Number of Chunks:  6\n",
      "Finished song: 03-shrI_pArthasArathinA-shuddhadhanyAsi (4).mp3  Chromagram size:  (12, 6000) Number of Chunks:  10\n",
      "Finished song: 01-shrI_rAjamAtangi-VARNAM-shuddhadhanyAsi.mp3  Chromagram size:  (12, 11400) Number of Chunks:  19\n",
      "Finished song: 03-sAmOdaM_cintayAmi-shuddhadhanyAsi (1).mp3  Chromagram size:  (12, 81600) Number of Chunks:  136\n",
      "Finished song: 02-subrahmaNyEna_rakSitOham-shuddhadhanyAsi (7).mp3  Chromagram size:  (12, 43200) Number of Chunks:  72\n",
      "Finished song: 02-subrahmaNyEna_rakSitOham-shuddhadhanyAsi (13).mp3  Chromagram size:  (12, 27000) Number of Chunks:  45\n",
      "Finished song: 01-subrahmaNyEna_rakSitOham-shuddhadhanyAsi (3).mp3  Chromagram size:  (12, 21000) Number of Chunks:  35\n",
      "Finished song: 01-shrI_pArthasArathinA-shuddhadhanyAsi (3).mp3  Chromagram size:  (12, 12000) Number of Chunks:  20\n",
      "Finished song: 02-sAmOdaM_cintayAmi-shuddhadhanyAsi-swAtitirunAL (2).mp3  Chromagram size:  (12, 38400) Number of Chunks:  64\n",
      "Finished song: 06-azhagA_azhagA-shuddhadhanyAsi.mp3  Chromagram size:  (12, 16800) Number of Chunks:  28\n",
      "Finished song: 06-sAmOdaM_cintayAmi-shuddhadhanyAsi (4).mp3  Chromagram size:  (12, 18000) Number of Chunks:  30\n",
      "Finished song: 02-himagiri-tanayEsuddadhanyAsi-Harikesanallur.mp3  Chromagram size:  (12, 25800) Number of Chunks:  43\n",
      "Finished song: 01-shrI_rAjamAtangi-shuddhadhanyAsi (15).mp3  Chromagram size:  (12, 13200) Number of Chunks:  22\n"
     ]
    },
    {
     "name": "stdout",
     "output_type": "stream",
     "text": [
      "Finished song: 03-shrI_pArthasArathinA-shuddhadhanyAsi (8).mp3  Chromagram size:  (12, 27600) Number of Chunks:  46\n",
      "Finished song: 05-himagiri_tanayE-shuddhadhanyAsi.mp3  Chromagram size:  (12, 96000) Number of Chunks:  160\n",
      "Finished song: 01-himagiri_tanayE-shuddhadhanyAsi (2).mp3  Chromagram size:  (12, 25200) Number of Chunks:  42\n",
      "Finished song: 04-shrI_pArthasArathinA-shuddhadhanyAsi (2).mp3  Chromagram size:  (12, 7200) Number of Chunks:  12\n",
      "Finished song: 05-subrahmaNyEna_rakSitOham-shuddhadhanyAsi (2).mp3  Chromagram size:  (12, 25200) Number of Chunks:  42\n",
      "Finished song: 03-himagiri_tanayE-shuddhadhanyAsi (3).mp3  Chromagram size:  (12, 10800) Number of Chunks:  18\n",
      "Finished song: 06-subrahmaNyEna_rakSitOham-shuddhadhanyAsi (6).mp3  Chromagram size:  (12, 45000) Number of Chunks:  75\n",
      "Finished song: 07-subrahmaNyEna_rakSitOham-shuddhadhanyAsi.mp3  Chromagram size:  (12, 41400) Number of Chunks:  69\n",
      "Finished song: 01-shrI_rAjamAtangi-shuddhadhanyAsi (23).mp3  Chromagram size:  (12, 12600) Number of Chunks:  21\n",
      "Finished song: 03-subrahmaNyEna_rakSitOham-shuddhadhanyAsi (3).mp3  Chromagram size:  (12, 22800) Number of Chunks:  38\n",
      "Finished song: 02-Subramanyena-Suddha_Dhanyasi-Adhi-Dhikshithar.mp3  Chromagram size:  (12, 43800) Number of Chunks:  73\n",
      "Finished song: 02-sAmOdaM_cintayAmi-shuddhadhanyAsi (1).mp3  Chromagram size:  (12, 66000) Number of Chunks:  110\n",
      "Finished song: 02-shrI_pArthasArathinA-shuddhadhanyAsi (7).mp3  Chromagram size:  (12, 40200) Number of Chunks:  67\n",
      "Finished song: 02-himagiri_tanayE-shuddhadhanyAsi-muthaiah_bAgavatar (1).mp3  Chromagram size:  (12, 47400) Number of Chunks:  79\n",
      "Finished song: 01-shrI_rAjamAtangi-shuddhadhanyAsi (19).mp3  Chromagram size:  (12, 19200) Number of Chunks:  32\n",
      "Finished song: 01-shrI_rAjamAtangi-shuddhadhanyAsi (6).mp3  Chromagram size:  (12, 15600) Number of Chunks:  26\n",
      "Finished song: 05-subrahmaNyEna_rakSitOham-shuddhadhanyAsi-m.dIkshitar.mp3  Chromagram size:  (12, 43800) Number of Chunks:  73\n",
      "Finished song: 01-shrI_rAjamAtangi-shuddhadhanyAsi (7).mp3  Chromagram size:  (12, 12000) Number of Chunks:  20\n",
      "Finished song: 01-sAmOdaM_cintayAmi-shuddhadhanyAsi.mp3  Chromagram size:  (12, 28800) Number of Chunks:  48\n",
      "Finished song: 01-shrI_rAjamAtangi-shuddhadhanyAsi-muthaiah_bAgavatar (2).mp3  Chromagram size:  (12, 18000) Number of Chunks:  30\n",
      "Finished song: 01-shrI_rAjamAtangi-shuddhadhanyAsi (18).mp3  Chromagram size:  (12, 13800) Number of Chunks:  23\n",
      "Finished song: 02-shrI_pArthasArathinA-shuddhadhanyAsi (6).mp3  Chromagram size:  (12, 35400) Number of Chunks:  59\n",
      "Finished song: 09-himagiri_tanayE-shuddhadhanyAsi.mp3  Chromagram size:  (12, 7200) Number of Chunks:  12\n",
      "Finished song: 04-sAmOdaM_cintayAmi-shuddhadhanyAsi (1).mp3  Chromagram size:  (12, 36000) Number of Chunks:  60\n",
      "Finished song: 03-subrahmaNyEna_rakSitOham-shuddhadhanyAsi (2).mp3  Chromagram size:  (12, 12000) Number of Chunks:  20\n",
      "Finished song: 01-shrI_rAjamAtangi-shuddhadhanyAsi (22).mp3  Chromagram size:  (12, 16800) Number of Chunks:  28\n",
      "Finished song: 03-sAmOdaM_cintayAmi-shuddhadhanyAsi.mp3  Chromagram size:  (12, 45000) Number of Chunks:  75\n",
      "Finished song: 03-himagiri_tanayE-shuddhadhanyAsi (2).mp3  Chromagram size:  (12, 9000) Number of Chunks:  15\n",
      "Finished song: 03_sAmOditam_chintayAmi_suddha_dhanyasi.mp3  Chromagram size:  (12, 49200) Number of Chunks:  82\n",
      "Finished song: 03-shrI_pArthasArathinA-shuddhadhanyAsi (9).mp3  Chromagram size:  (12, 7200) Number of Chunks:  12\n",
      "Finished song: 02-sAmOdaM_cintayAmi-shuddhadhanyAsi.mp3  Chromagram size:  (12, 12600) Number of Chunks:  21\n",
      "Finished song: 04-shrI_pArthasArathinA-shuddhadhanyAsi (3).mp3  Chromagram size:  (12, 88200) Number of Chunks:  147\n",
      "Finished song: 05-subrahmaNyEna_rakSitOham-shuddhadhanyAsi (3).mp3  Chromagram size:  (12, 87600) Number of Chunks:  146\n",
      "Finished song: 01-sAmodam_chintayami-sudhadhanyAsi-swAti_tirunAl.mp3  Chromagram size:  (12, 34800) Number of Chunks:  58\n",
      "Finished song: 05-subramhaNyEna_rakshithOham-shuddha_dhanyAsi-Adhi-MutthuswAmy_dhIkshithar.mp3  Chromagram size:  (12, 51000) Number of Chunks:  85\n",
      "Finished song: 01-shrI_rAjamAtangi-shuddhadhanyAsi (14).mp3  Chromagram size:  (12, 13200) Number of Chunks:  22\n",
      "Finished song: 01-Subramanyena-Suddha_Dhanyasi-Adhi-Dhikshithar.mp3  Chromagram size:  (12, 20400) Number of Chunks:  34\n",
      "Finished song: 05-sAmOdaM_cintayAmi-shuddhadhanyAsi (1).mp3  Chromagram size:  (12, 13800) Number of Chunks:  23\n",
      "Finished song: 02-himagiri_tanayE-shuddhadhanyAsi (2).mp3  Chromagram size:  (12, 21000) Number of Chunks:  35\n",
      "Finished song: 04-sAmOdaM_cintayAmi-shuddhadhanyAsi.mp3  Chromagram size:  (12, 61800) Number of Chunks:  103\n",
      "Finished song: 06-himagiri_tanayE-shuddhadhanyAsi.mp3  Chromagram size:  (12, 10800) Number of Chunks:  18\n",
      "Finished song: 02-subrahmaNyEna_rakSitOham-shuddhadhanyAsi.mp3  Chromagram size:  (12, 38400) Number of Chunks:  64\n",
      "Finished song: 01-shrI_pArthasArathinA-shuddhadhanyAsi (2).mp3  Chromagram size:  (12, 26400) Number of Chunks:  44\n",
      "Finished song: 04-azhagA_azhagA-shuddhadhanyAsi.mp3  Chromagram size:  (12, 24000) Number of Chunks:  40\n",
      "Finished song: 05-sAmOdaM_cintayAmi-shuddhadhanyAsi.mp3  Chromagram size:  (12, 35400) Number of Chunks:  59\n",
      "Finished song: 06-sAmOdaM_cintayAmi-shuddhadhanyAsi.mp3  Chromagram size:  (12, 18000) Number of Chunks:  30\n",
      "Finished song: 02-subrahmaNyEna_rakSitOham-shuddhadhanyAsi-m.dIkshitar.mp3  Chromagram size:  (12, 11400) Number of Chunks:  19\n",
      "Finished song: 01-shrI_pArthasArathinA-shuddhadhanyAsi.mp3  Chromagram size:  (12, 15000) Number of Chunks:  25\n",
      "Finished song: 06-azhagA_azhagA_azhagA-shuddhadhanyAsi-k_chApu-ambujam_krishNa.mp3  Chromagram size:  (12, 16200) Number of Chunks:  27\n",
      "Finished song: 04-shrI_pArthasArathinA-shuddhadhanyAsi-m.dIkshitar (1).mp3  Chromagram size:  (12, 52800) Number of Chunks:  88\n",
      "Finished song: 02-subrahmaNyEna_rakSitOham-shuddhadhanyAsi (12).mp3  Chromagram size:  (12, 40800) Number of Chunks:  68\n",
      "Finished song: 01-subrahmaNyEna_rakSitOham-shuddhadhanyAsi (2).mp3  Chromagram size:  (12, 24000) Number of Chunks:  40\n",
      "Finished song: 02-subrahmaNyEna_rakSitOham-shuddhadhanyAsi (6).mp3  Chromagram size:  (12, 48600) Number of Chunks:  81\n",
      "Finished song: 03-shrI_pArthasArathinA-shuddhadhanyAsi (5).mp3  Chromagram size:  (12, 5400) Number of Chunks:  9\n",
      "Finished song: 01-shrI_rAjamAtangi-shuddhadhanyAsi (17).mp3  Chromagram size:  (12, 19200) Number of Chunks:  32\n",
      "Finished song: 02-azhagA_azhagA-shuddhadhanyAsi.mp3  Chromagram size:  (12, 46200) Number of Chunks:  77\n",
      "Finished song: 03-shrI_pArthasArathinA-shuddhadhanyAsi (10).mp3  Chromagram size:  (12, 9000) Number of Chunks:  15\n",
      "Finished song: 01-shrI_rAjamAtangi-shuddhadhanyAsi (8).mp3  Chromagram size:  (12, 22800) Number of Chunks:  38\n",
      "Finished song: 02-himagiri_tanayE-shuddhadhanyAsi (1).mp3  Chromagram size:  (12, 22800) Number of Chunks:  38\n",
      "Finished song: 02-shrI_pArthasArathinA-shuddhadhanyAsi (9).mp3  Chromagram size:  (12, 40200) Number of Chunks:  67\n",
      "Finished song: 01-shrI_pArthasArathinA-shuddhadhanyAsi (1).mp3  Chromagram size:  (12, 13800) Number of Chunks:  23\n",
      "Finished song: 02-himagiri_tanayE-shuddhadhanyAsi-muthaiah_bAgavatar.mp3  Chromagram size:  (12, 33600) Number of Chunks:  56\n",
      "Finished song: 01-subrahmaNyEna_rakSitOham-shuddhadhanyAsi (1).mp3  Chromagram size:  (12, 10800) Number of Chunks:  18\n",
      "Finished song: 02-subrahmaNyEna_rakSitOham-shuddhadhanyAsi (11).mp3  Chromagram size:  (12, 36600) Number of Chunks:  61\n",
      "Finished song: 02-subrahmaNyEna_rakSitOham-shuddhadhanyAsi (5).mp3  Chromagram size:  (12, 31200) Number of Chunks:  52\n",
      "Finished song: 03-sAmOdaM_cintayAmi-shuddhadhanyAsi (3).mp3  Chromagram size:  (12, 29400) Number of Chunks:  49\n",
      "Finished song: 03-shrI_pArthasArathinA-shuddhadhanyAsi (6).mp3  Chromagram size:  (12, 25800) Number of Chunks:  43\n",
      "Finished song: DKP-04---Sri-Parthasarathina---SuddhaDhanyasi.mp3  Chromagram size:  (12, 26400) Number of Chunks:  44\n",
      "Finished song: 01-shri_rAjamAtangi-shuddhadhanyAsi-muthaiah_bAgavatar (1).mp3  Chromagram size:  (12, 43800) Number of Chunks:  73\n",
      "Finished song: 01-shrI_rAjamAtangi-shuddhadhanyAsi (4).mp3  Chromagram size:  (12, 4200) Number of Chunks:  7\n",
      "Finished song: 02-shrI_pArthasArathinA-shuddhadhanyAsi (5).mp3  Chromagram size:  (12, 48000) Number of Chunks:  80\n"
     ]
    },
    {
     "name": "stdout",
     "output_type": "stream",
     "text": [
      "Finished song: 05---Subramanyena-Rakshitoham---SuddhaDhanyasi.mp3  Chromagram size:  (12, 24000) Number of Chunks:  40\n",
      "Finished song: 02-sAmOdaM_cintayAmi-shuddhadhanyAsi (3).mp3  Chromagram size:  (12, 39000) Number of Chunks:  65\n",
      "Finished song: 02-prAnapatE_gunapatE_ganapatE-shuddhadhanyAsi.mp3  Chromagram size:  (12, 24000) Number of Chunks:  40\n",
      "Finished song: 03-subrahmaNyEna_rakSitOham-shuddhadhanyAsi (1).mp3  Chromagram size:  (12, 31200) Number of Chunks:  52\n",
      "Finished song: 04-sAmOdaM_cintayAmi-shuddhadhanyAsi (2).mp3  Chromagram size:  (12, 64800) Number of Chunks:  108\n",
      "Finished song: 02-himagiri_tanayE-shuddhadhanyAsi.mp3  Chromagram size:  (12, 19200) Number of Chunks:  32\n",
      "Finished song: 01-subrahmaNyEna_rakSitOham-shuddhadhanyAsi (10).mp3  Chromagram size:  (12, 22200) Number of Chunks:  37\n",
      "Finished song: 01-shrI_rAjamAtangi-shuddhadhanyAsi (21).mp3  Chromagram size:  (12, 16800) Number of Chunks:  28\n",
      "Finished song: 06-subrahmaNyEna_rakSitOham-shuddhadhanyAsi (4).mp3  Chromagram size:  (12, 34800) Number of Chunks:  58\n",
      "Finished song: 03-himagiri_tanayE-shuddhadhanyAsi (1).mp3  Chromagram size:  (12, 12600) Number of Chunks:  21\n",
      "Finished song: 01-shrI_pArthasArathinA-shuddhadhanyAsi-m.dikshitar (1).mp3  Chromagram size:  (12, 11400) Number of Chunks:  19\n",
      "Finished song: 02-subrahmaNyEna_rakSitOham-shuddhadhanyAsi (9).mp3  Chromagram size:  (12, 34200) Number of Chunks:  57\n",
      "Finished song: 05_sAmOdaM_cintayAmi_shuddhadhanyAsi_swAtitirunAL.mp3  Chromagram size:  (12, 18000) Number of Chunks:  30\n",
      "Finished song: 01---Subramanyena-Rakshitoham---SuddhaDhanyasi.mp3  Chromagram size:  (12, 19200) Number of Chunks:  32\n",
      "Finished song: 1-sri_raja_matangi-suddha_danyasi.mp3  Chromagram size:  (12, 22200) Number of Chunks:  37\n",
      "Finished song: 03-subrahmaNyEna_rakSitOham-shuddhadhanyAsi.mp3  Chromagram size:  (12, 46200) Number of Chunks:  77\n",
      "Finished song: 02-subrahmaNyEna_rakSitOham-shuddhadhanyAsi (8).mp3  Chromagram size:  (12, 42000) Number of Chunks:  70\n",
      "Finished song: 05-subrahmaNyEna_rakSitOham-shuddhadhanyAsi (1).mp3  Chromagram size:  (12, 25200) Number of Chunks:  42\n",
      "Finished song: 01-himagiri_tanayE-shuddhadhanyAsi (1).mp3  Chromagram size:  (12, 39000) Number of Chunks:  65\n",
      "Finished song: 04-shrI_pArthasArathinA-shuddhadhanyAsi (1).mp3  Chromagram size:  (12, 73200) Number of Chunks:  122\n",
      "Finished song: 02-sAmOdham_chinthayAmi-shuDhDha_DhanyAsi-chApu-swAthi_thirunAL.mp3  Chromagram size:  (12, 52200) Number of Chunks:  87\n",
      "Finished song: 06-subrahmaNyEna_rakSitOham-shuddhadhanyAsi (5).mp3  Chromagram size:  (12, 18600) Number of Chunks:  31\n",
      "Finished song: 07-tana_hitavE-shuddhadhanyAsi.mp3  Chromagram size:  (12, 20400) Number of Chunks:  34\n",
      "Finished song: 01-shrI_rAjamAtangi-shuddhadhanyAsi (20).mp3  Chromagram size:  (12, 13800) Number of Chunks:  23\n",
      "Finished song: 02-shrI_pArthasArathinA-shuddhadhanyAsi (10).mp3  Chromagram size:  (12, 41400) Number of Chunks:  69\n",
      "Finished song: 02-sAmOdaM_cintayAmi-shuddhadhanyAsi (2).mp3  Chromagram size:  (12, 48600) Number of Chunks:  81\n",
      "Finished song: 02-shrI_pArthasArathinA-shuddhadhanyAsi (4).mp3  Chromagram size:  (12, 45000) Number of Chunks:  75\n",
      "Finished song: 02-Telisi_Ramachintanato-Poornachandrika-Asi-Tyagaraja.mp3  Chromagram size:  (12, 17400) Number of Chunks:  29\n",
      "Finished song: 02-jaya_jaya_guhA-shuddhadhanyAsi.mp3  Chromagram size:  (12, 40800) Number of Chunks:  68\n",
      "Finished song: 03_shrI_pArthasArathinA_shuddhadhanyAsi_m.dIkshitar.mp3  Chromagram size:  (12, 36000) Number of Chunks:  60\n",
      "Finished song: 05-subrahmaNyEna_raksItOham-shuddhadhanyAsi-m.dIkshitar (1).mp3  Chromagram size:  (12, 51000) Number of Chunks:  85\n",
      "Finished song: 04-himagiri_tanayE-shuddhadhanyAsi-muthaiah_bAgavatar.mp3  Chromagram size:  (12, 73200) Number of Chunks:  122\n",
      "Finished song: 03-shrI_pArthasArathinA-shuddhadhanyAsi.mp3  Chromagram size:  (12, 50400) Number of Chunks:  84\n",
      "Finished song: 01-shrI_rAjamAtangi-shuddhadhanyAsi (5).mp3  Chromagram size:  (12, 9600) Number of Chunks:  16\n",
      "Finished song: 03-shrI_pArthasArathinA-shuddhadhanyAsi (7).mp3  Chromagram size:  (12, 36000) Number of Chunks:  60\n",
      "Finished song: 02-subrahmaNyEna_rakSitOham-shuddhadhanyAsi (4).mp3  Chromagram size:  (12, 49200) Number of Chunks:  82\n",
      "Finished song: 03-sAmOdaM_cintayAmi-shuddhadhanyAsi (2).mp3  Chromagram size:  (12, 12000) Number of Chunks:  20\n",
      "Finished song: 07-shrI_pArthasArathinA-shuddhadhanyAsi.mp3  Chromagram size:  (12, 5400) Number of Chunks:  9\n",
      "Finished song: 04-subrahmaNyEna_rakShithOham-shuDhDha_DhanyAsi-Adhi-m_dhIkShithar.mp3  Chromagram size:  (12, 38400) Number of Chunks:  64\n",
      "Finished song: 02-subrahmaNyEna_rakSitOham-shuddhadhanyAsi (10).mp3  Chromagram size:  (12, 37200) Number of Chunks:  62\n",
      "Finished song: 03_subrahmaNyEna_rakSitOham_shuddhadhanyAsi_m.dIkshitar-incomplete.mp3  Chromagram size:  (12, 55800) Number of Chunks:  93\n",
      "Finished song: 02-tana_hitavE-shuddhadhanyAsi.mp3  Chromagram size:  (12, 127200) Number of Chunks:  212\n",
      "Finished song: 06-subrahmaNyEna_rakSitOham-shuddhadhanyAsi.mp3  Chromagram size:  (12, 48000) Number of Chunks:  80\n",
      "Finished song: 01-himagiri_tanayE-shuddhadhanyAsi.mp3  Chromagram size:  (12, 26400) Number of Chunks:  44\n",
      "Finished song: 02-sAmOdaM_cintayAmi-shuddhadhanyAsi-swAtitirunAL (1).mp3  Chromagram size:  (12, 43200) Number of Chunks:  72\n",
      "Finished song: 01_Sriparthasarathy_Shudha_dhanyasi.mp3  Chromagram size:  (12, 21000) Number of Chunks:  35\n",
      "Finished song: 02-shrI_pArthasArathinA-shuddhadhanyAsi (8).mp3  Chromagram size:  (12, 16200) Number of Chunks:  27\n",
      "Finished song: 01-shrI_rAjamAtangi-shuddhadhanyAsi (9).mp3  Chromagram size:  (12, 12600) Number of Chunks:  21\n",
      "Finished song: 01-shrI_rAjamAtangi-shuddhadhanyAsi (16).mp3  Chromagram size:  (12, 12000) Number of Chunks:  20\n",
      "Finished song: 03-shrI_pArthasArathinA-shuddhadhanyAsi (11).mp3  Chromagram size:  (12, 21000) Number of Chunks:  35\n",
      "Finished song: 01-shrI_rAjamAtangi-shuddhadhanyAsi (2).mp3  Chromagram size:  (12, 12000) Number of Chunks:  20\n",
      "Finished song: 01-sAmOdaM_cintayAmi-shuddhadhanyAsi (1).mp3  Chromagram size:  (12, 33000) Number of Chunks:  55\n",
      "Finished song: 03---Subramanyena-Rakshitoham---SuddhaDhanyasi.mp3  Chromagram size:  (12, 25800) Number of Chunks:  43\n",
      "Finished song: 03-himagiri_tanayE-shuddhadhanyAsi-muthaiah_bAgavatar.mp3  Chromagram size:  (12, 13800) Number of Chunks:  23\n",
      "Finished song: 05-azhagA_azhagA-shuddhadhanyAsi (1).mp3  Chromagram size:  (12, 10800) Number of Chunks:  18\n",
      "Finished song: 02-shrI_pArthasArathinA-shuddhadhanyAsi (3).mp3  Chromagram size:  (12, 25800) Number of Chunks:  43\n",
      "Finished song: 03-azhagA_azhagA-shuddhadhanyAsi.mp3  Chromagram size:  (12, 15600) Number of Chunks:  26\n",
      "Finished song: 02-sAmOdaM_cintayAmi-shuddhadhanyAsi (5).mp3  Chromagram size:  (12, 31800) Number of Chunks:  53\n",
      "Finished song: 07---Subramanyena-Rakshitoham---SuddhaDhanyasi.mp3  Chromagram size:  (12, 5400) Number of Chunks:  9\n",
      "Finished song: 08_himagiri_tanayE_shuddhadhanyAsi_muthaiah_bAgavatar.mp3  Chromagram size:  (12, 7800) Number of Chunks:  13\n",
      "Finished song: 06-subrahmaNyEna_rakSitOham-shuddhadhanyAsi (2).mp3  Chromagram size:  (12, 9000) Number of Chunks:  15\n",
      "Finished song: 10-RTP-pallavi-shuDhDha_DhanyAsi-ghan_rAga_pancha_rAgamAlike (1).mp3  Chromagram size:  (12, 55800) Number of Chunks:  93\n",
      "Finished song: 05-subrahmaNyEna_rakSitOham-shuddhadhanyAsi (6).mp3  Chromagram size:  (12, 48600) Number of Chunks:  81\n",
      "Finished song: 01-shrI_rAjamAtangi-shuddhadhanyAsi (11).mp3  Chromagram size:  (12, 15000) Number of Chunks:  25\n",
      "Finished song: NRK-12---Sri-Parthasarathina---SuddhaDhanyasi.mp3  Chromagram size:  (12, 6600) Number of Chunks:  11\n",
      "Finished song: 03-subrahmaNyEna_rakshithOham-shuDDha_DhanyAsi-Adhi-MutthuswAmy_dhIkshithar.mp3  Chromagram size:  (12, 15000) Number of Chunks:  25\n",
      "Finished song: 01-shrI_rAjamAtangi-shuddhadhanyAsi.mp3  Chromagram size:  (12, 16200) Number of Chunks:  27\n",
      "Finished song: 01-azhagA_azhagA-shuddhadhanyAsi (1).mp3  Chromagram size:  (12, 17400) Number of Chunks:  29\n",
      "Finished song: 10-Kadhana-Kuthuhala-Raghu-Vamsha-Sudha.mp3  Chromagram size:  (12, 16200) Number of Chunks:  27\n",
      "Finished song: 04-shrI_pArthasArathinA-shuddhadhanyAsi.mp3  Chromagram size:  (12, 8400) Number of Chunks:  14\n"
     ]
    },
    {
     "name": "stdout",
     "output_type": "stream",
     "text": [
      "Finished song: 07-azhagA_azhagA-shuDhDha_DhanyAsi--khanda_chApu-ambujam_krishNa.mp3  Chromagram size:  (12, 28200) Number of Chunks:  47\n",
      "Finished song: 02-subrahmaNyEna_rakshithOham-shuDDha_DhanyAsi-Adhi-MutthuswAmy_dhIkshithar.mp3  Chromagram size:  (12, 16800) Number of Chunks:  28\n",
      "Finished song: 05-himagiri_tanayE-shuddhadhanyAsi (1).mp3  Chromagram size:  (12, 59400) Number of Chunks:  99\n",
      "Finished song: 04-subrahmaNyEna_rakSitOham-shuddhadhanyAsi (2).mp3  Chromagram size:  (12, 27000) Number of Chunks:  45\n",
      "Finished song: 02-azhagA_azhagA-shuddhadhanyAsi (1).mp3  Chromagram size:  (12, 41400) Number of Chunks:  69\n",
      "Finished song: 01-subrahmaNyEna_rakSitOham-shuddhadhanyAsi (7).mp3  Chromagram size:  (12, 17400) Number of Chunks:  29\n",
      "Finished song: 02-subrahmaNyEna_rakSitOham-shuddhadhanyAsi (3).mp3  Chromagram size:  (12, 24000) Number of Chunks:  40\n",
      "Finished song: 04-subrahmaNyEna_rakSitOham-shuddhadhanyAsi.mp3  Chromagram size:  (12, 24600) Number of Chunks:  41\n",
      "Finished song: 02-shrI_pArthasArathinA-shuddhadhanyAsi-m_dIkshitar.mp3  Chromagram size:  (12, 9000) Number of Chunks:  15\n",
      "Finished song: 04-himagiri_tanayE-shuddhadhanyAsi.mp3  Chromagram size:  (12, 51600) Number of Chunks:  86\n",
      "Finished song: 05_SubramanyaRakshitoham_ShuddaDhanyasi_Adi_MuttuswamiDixitar.mp3  Chromagram size:  (12, 12000) Number of Chunks:  20\n",
      "Finished song: 01-shrI_rAjamAtangi-shuddhadhanyAsi-muthaiah_bAgavatar.mp3  Chromagram size:  (12, 12600) Number of Chunks:  21\n",
      "Finished song: 03-shrI_pArthasArathinA-shuddhadhanyAsi (1).mp3  Chromagram size:  (12, 57000) Number of Chunks:  95\n",
      "Finished song: 02-subrahmaNyEna_rakSitOham-shuddhadhanyAsi (2).mp3  Chromagram size:  (12, 33600) Number of Chunks:  56\n",
      "Finished song: 04-shrI_pArthasArathinA-shuddhadhanyAsi-m_dIkshitar.mp3  Chromagram size:  (12, 18600) Number of Chunks:  31\n",
      "Finished song: 03-sAmOdaM_cintayAmi-shuddhadhanyAsi (4).mp3  Chromagram size:  (12, 12600) Number of Chunks:  21\n",
      "Finished song: 065-azhagA_azhagA-shuddhadhanyAsi.mp3  Chromagram size:  (12, 34200) Number of Chunks:  57\n",
      "Finished song: 01-subrahmaNyEna_rakSitOham-shuddhadhanyAsi (6).mp3  Chromagram size:  (12, 39600) Number of Chunks:  66\n",
      "Finished song: 14-thana_hithave_thana_mathamu-shuDDha_dhanyAsi-Adhi-Dr_MBK.mp3  Chromagram size:  (12, 29400) Number of Chunks:  49\n",
      "Finished song: 02-subrahmaNyEna_rakSitOham-shuddhadhanyAsi (16).mp3  Chromagram size:  (12, 25200) Number of Chunks:  42\n",
      "Finished song: 04-subrahmaNyEna_rakSitOham-shuddhadhanyAsi (3).mp3  Chromagram size:  (12, 40200) Number of Chunks:  67\n",
      "Finished song: 01-subrahmaNyEna_rakSitOham-shuddhadhanyAsi-m_dIkshitar (1).mp3  Chromagram size:  (12, 21600) Number of Chunks:  36\n",
      "Finished song: 01-shrI_pArthasArathinA-shuddhadhanyAsi-m.dIkshitar.mp3  Chromagram size:  (12, 12000) Number of Chunks:  20\n",
      "Finished song: 01-shrI_pArthasArathinA-shuddhadhanyAsi (6).mp3  Chromagram size:  (12, 2400) Number of Chunks:  4\n",
      "Finished song: 08-jaya_jaya_guhA-shuddhadhanyAsi.mp3  Chromagram size:  (12, 11400) Number of Chunks:  19\n",
      "Finished song: 06-sAmOdaM_cintayAmi-shuddhadhanyAsi (1).mp3  Chromagram size:  (12, 18000) Number of Chunks:  30\n",
      "Finished song: 01-shrI_rAjamAtangi-shuddhadhanyAsi (10).mp3  Chromagram size:  (12, 16200) Number of Chunks:  27\n",
      "Finished song: 06-subrahmaNyEna_rakSitOham-shuddhadhanyAsi (3).mp3  Chromagram size:  (12, 21000) Number of Chunks:  35\n",
      "Finished song: 05_Himagiritanaye_hemalate_Shudda_Dhanyasi.mp3  Chromagram size:  (12, 54000) Number of Chunks:  90\n",
      "Finished song: 07_nArAyaNA_ninna_nAmada-shudhadhanyAsi-purandaradAsa.mp3  Chromagram size:  (12, 29400) Number of Chunks:  49\n",
      "Finished song: 02-sAmOdaM_cintayAmi-shuddhadhanyAsi (4).mp3  Chromagram size:  (12, 25200) Number of Chunks:  42\n",
      "Finished song: 01-subrahmaNyEna_rakSitOham-shuddhadhanyAsi.mp3  Chromagram size:  (12, 15000) Number of Chunks:  25\n",
      "Finished song: 11-Subramanyena-Suddha_Dhanyasi-Adhi-Dhikshithar.mp3  Chromagram size:  (12, 24600) Number of Chunks:  41\n",
      "Finished song: 01-azhagA_azhagA-shuddhadhanyAsi.mp3  Chromagram size:  (12, 44400) Number of Chunks:  74\n",
      "Finished song: 02-shrI_pArthasArathinA-shuddhadhanyAsi (2).mp3  Chromagram size:  (12, 33600) Number of Chunks:  56\n",
      "Finished song: 03-shrI_pArthasArathinA-shuddhadhanyAsi-m.dikshitar.mp3  Chromagram size:  (12, 5400) Number of Chunks:  9\n",
      "Finished song: 01-shrI_rAjamAtangi-shuddhadhanyAsi (3).mp3  Chromagram size:  (12, 7800) Number of Chunks:  13\n"
     ]
    }
   ],
   "source": [
    "\n",
    "\n",
    "s_list = save_chunks('shuddhadhanyAsi')"
   ]
  },
  {
   "cell_type": "code",
   "execution_count": 9,
   "metadata": {
    "scrolled": true
   },
   "outputs": [],
   "source": [
    "np.save(\"shuddadhanyasi.npy\", s_list)"
   ]
  },
  {
   "cell_type": "code",
   "execution_count": 10,
   "metadata": {},
   "outputs": [
    {
     "data": {
      "text/plain": [
       "(12060, 12, 600)"
      ]
     },
     "execution_count": 10,
     "metadata": {},
     "output_type": "execute_result"
    }
   ],
   "source": [
    "s_list.shape"
   ]
  },
  {
   "cell_type": "code",
   "execution_count": 11,
   "metadata": {},
   "outputs": [
    {
     "data": {
      "text/plain": [
       "(22856, 12, 600)"
      ]
     },
     "execution_count": 11,
     "metadata": {},
     "output_type": "execute_result"
    }
   ],
   "source": [
    "chr_list.shape"
   ]
  },
  {
   "cell_type": "code",
   "execution_count": 46,
   "metadata": {},
   "outputs": [
    {
     "name": "stderr",
     "output_type": "stream",
     "text": [
      "/opt/anaconda3/lib/python3.7/site-packages/ipykernel_launcher.py:2: ComplexWarning: Casting complex values to real discards the imaginary part\n",
      "  \n"
     ]
    },
    {
     "data": {
      "text/plain": [
       "<matplotlib.collections.QuadMesh at 0x7f919309c990>"
      ]
     },
     "execution_count": 46,
     "metadata": {},
     "output_type": "execute_result"
    },
    {
     "data": {
      "image/png": "[encoded data removed]",
      "text/plain": [
       "<Figure size 1080x360 with 1 Axes>"
      ]
     },
     "metadata": {
      "needs_background": "light"
     },
     "output_type": "display_data"
    }
   ],
   "source": [
    "plt.figure(figsize=(15, 5))\n",
    "librosa.display.specshow(s_list[4,:,0:20].astype(float), x_axis='time', hop_length=hop_length)"
   ]
  },
  {
   "cell_type": "code",
   "execution_count": 47,
   "metadata": {},
   "outputs": [
    {
     "data": {
      "text/plain": [
       "<matplotlib.collections.QuadMesh at 0x7f9193213750>"
      ]
     },
     "execution_count": 47,
     "metadata": {},
     "output_type": "execute_result"
    },
    {
     "data": {
      "image/png": "[encoded data removed]",
      "text/plain": [
       "<Figure size 1080x360 with 1 Axes>"
      ]
     },
     "metadata": {
      "needs_background": "light"
     },
     "output_type": "display_data"
    }
   ],
   "source": [
    "plt.figure(figsize=(15, 5))\n",
    "librosa.display.specshow(s_list[4,:,0:20], x_axis='time', hop_length=hop_length)"
   ]
  },
  {
   "cell_type": "code",
   "execution_count": 20,
   "metadata": {},
   "outputs": [],
   "source": [
    "s = np.load(\"../../data/npy/shuddadhanyasi.npy\")"
   ]
  },
  {
   "cell_type": "code",
   "execution_count": 21,
   "metadata": {
    "scrolled": true
   },
   "outputs": [
    {
     "data": {
      "text/plain": [
       "(12060, 12, 600)"
      ]
     },
     "execution_count": 21,
     "metadata": {},
     "output_type": "execute_result"
    }
   ],
   "source": [
    "s.shape"
   ]
  },
  {
   "cell_type": "code",
   "execution_count": 23,
   "metadata": {},
   "outputs": [
    {
     "data": {
      "text/plain": [
       "'shuddadhanyasi.'"
      ]
     },
     "execution_count": 23,
     "metadata": {},
     "output_type": "execute_result"
    }
   ],
   "source": [
    "r = 'shuddadhanyasi.npy'\n",
    "r[:-3]"
   ]
  },
  {
   "cell_type": "code",
   "execution_count": 24,
   "metadata": {},
   "outputs": [
    {
     "data": {
      "text/plain": [
       "array([1, 1, 1, 1, 1, 1])"
      ]
     },
     "execution_count": 24,
     "metadata": {},
     "output_type": "execute_result"
    }
   ],
   "source": [
    "np.tile(1,6)"
   ]
  },
  {
   "cell_type": "code",
   "execution_count": 32,
   "metadata": {},
   "outputs": [],
   "source": [
    "q = []\n",
    "q.extend(s)\n",
    "q.extend(s)"
   ]
  },
  {
   "cell_type": "code",
   "execution_count": 33,
   "metadata": {},
   "outputs": [
    {
     "data": {
      "text/plain": [
       "(24120, 12, 600)"
      ]
     },
     "execution_count": 33,
     "metadata": {},
     "output_type": "execute_result"
    }
   ],
   "source": [
    "np.array(q).shape"
   ]
  },
  {
   "cell_type": "code",
   "execution_count": null,
   "metadata": {},
   "outputs": [],
   "source": []
  },
  {
   "cell_type": "code",
   "execution_count": null,
   "metadata": {},
   "outputs": [],
   "source": []
  },
  {
   "cell_type": "code",
   "execution_count": null,
   "metadata": {},
   "outputs": [],
   "source": []
  },
  {
   "cell_type": "code",
   "execution_count": null,
   "metadata": {},
   "outputs": [],
   "source": []
  },
  {
   "cell_type": "code",
   "execution_count": null,
   "metadata": {},
   "outputs": [],
   "source": []
  },
  {
   "cell_type": "code",
   "execution_count": null,
   "metadata": {},
   "outputs": [],
   "source": []
  }
 ],
 "metadata": {
  "kernelspec": {
   "display_name": "Python 3",
   "language": "python",
   "name": "python3"
  },
  "language_info": {
   "codemirror_mode": {
    "name": "ipython",
    "version": 3
   },
   "file_extension": ".py",
   "mimetype": "text/x-python",
   "name": "python",
   "nbconvert_exporter": "python",
   "pygments_lexer": "ipython3",
   "version": "3.7.4"
  }
 },
 "nbformat": 4,
 "nbformat_minor": 2
}
